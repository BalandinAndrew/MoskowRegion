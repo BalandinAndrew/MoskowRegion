{
  "cells": [
    {
      "cell_type": "code",
      "execution_count": null,
      "metadata": {
        "colab": {
          "base_uri": "https://localhost:8080/"
        },
        "id": "au5Dfw1Sz-uQ",
        "outputId": "73aff734-3bc1-4aca-d2b1-b49eba3d72a0"
      },
      "outputs": [
        {
          "output_type": "stream",
          "name": "stdout",
          "text": [
            "Looking in indexes: https://pypi.org/simple, https://us-python.pkg.dev/colab-wheels/public/simple/\n",
            "Collecting transformers\n",
            "  Downloading transformers-4.22.2-py3-none-any.whl (4.9 MB)\n",
            "\u001b[K     |████████████████████████████████| 4.9 MB 31.5 MB/s \n",
            "\u001b[?25hRequirement already satisfied: filelock in /usr/local/lib/python3.7/dist-packages (from transformers) (3.8.0)\n",
            "Requirement already satisfied: numpy>=1.17 in /usr/local/lib/python3.7/dist-packages (from transformers) (1.21.6)\n",
            "Collecting tokenizers!=0.11.3,<0.13,>=0.11.1\n",
            "  Downloading tokenizers-0.12.1-cp37-cp37m-manylinux_2_12_x86_64.manylinux2010_x86_64.whl (6.6 MB)\n",
            "\u001b[K     |████████████████████████████████| 6.6 MB 54.7 MB/s \n",
            "\u001b[?25hCollecting huggingface-hub<1.0,>=0.9.0\n",
            "  Downloading huggingface_hub-0.10.0-py3-none-any.whl (163 kB)\n",
            "\u001b[K     |████████████████████████████████| 163 kB 73.4 MB/s \n",
            "\u001b[?25hRequirement already satisfied: pyyaml>=5.1 in /usr/local/lib/python3.7/dist-packages (from transformers) (6.0)\n",
            "Requirement already satisfied: importlib-metadata in /usr/local/lib/python3.7/dist-packages (from transformers) (4.12.0)\n",
            "Requirement already satisfied: regex!=2019.12.17 in /usr/local/lib/python3.7/dist-packages (from transformers) (2022.6.2)\n",
            "Requirement already satisfied: tqdm>=4.27 in /usr/local/lib/python3.7/dist-packages (from transformers) (4.64.1)\n",
            "Requirement already satisfied: packaging>=20.0 in /usr/local/lib/python3.7/dist-packages (from transformers) (21.3)\n",
            "Requirement already satisfied: requests in /usr/local/lib/python3.7/dist-packages (from transformers) (2.23.0)\n",
            "Requirement already satisfied: typing-extensions>=3.7.4.3 in /usr/local/lib/python3.7/dist-packages (from huggingface-hub<1.0,>=0.9.0->transformers) (4.1.1)\n",
            "Requirement already satisfied: pyparsing!=3.0.5,>=2.0.2 in /usr/local/lib/python3.7/dist-packages (from packaging>=20.0->transformers) (3.0.9)\n",
            "Requirement already satisfied: zipp>=0.5 in /usr/local/lib/python3.7/dist-packages (from importlib-metadata->transformers) (3.8.1)\n",
            "Requirement already satisfied: urllib3!=1.25.0,!=1.25.1,<1.26,>=1.21.1 in /usr/local/lib/python3.7/dist-packages (from requests->transformers) (1.24.3)\n",
            "Requirement already satisfied: idna<3,>=2.5 in /usr/local/lib/python3.7/dist-packages (from requests->transformers) (2.10)\n",
            "Requirement already satisfied: certifi>=2017.4.17 in /usr/local/lib/python3.7/dist-packages (from requests->transformers) (2022.6.15)\n",
            "Requirement already satisfied: chardet<4,>=3.0.2 in /usr/local/lib/python3.7/dist-packages (from requests->transformers) (3.0.4)\n",
            "Installing collected packages: tokenizers, huggingface-hub, transformers\n",
            "Successfully installed huggingface-hub-0.10.0 tokenizers-0.12.1 transformers-4.22.2\n"
          ]
        }
      ],
      "source": [
        "# Установка transformers\n",
        "!pip install transformers"
      ]
    },
    {
      "cell_type": "code",
      "execution_count": null,
      "metadata": {
        "colab": {
          "base_uri": "https://localhost:8080/"
        },
        "id": "kCdHzreLvRwW",
        "outputId": "a4cf6527-e3d0-4692-dd22-8b66db1cc89a"
      },
      "outputs": [
        {
          "output_type": "stream",
          "name": "stdout",
          "text": [
            "Looking in indexes: https://pypi.org/simple, https://us-python.pkg.dev/colab-wheels/public/simple/\n",
            "Collecting catboost\n",
            "  Downloading catboost-1.1-cp37-none-manylinux1_x86_64.whl (76.8 MB)\n",
            "\u001b[K     |████████████████████████████████| 76.8 MB 1.2 MB/s \n",
            "\u001b[?25hRequirement already satisfied: plotly in /usr/local/lib/python3.7/dist-packages (from catboost) (5.5.0)\n",
            "Requirement already satisfied: scipy in /usr/local/lib/python3.7/dist-packages (from catboost) (1.7.3)\n",
            "Requirement already satisfied: numpy>=1.16.0 in /usr/local/lib/python3.7/dist-packages (from catboost) (1.21.6)\n",
            "Requirement already satisfied: six in /usr/local/lib/python3.7/dist-packages (from catboost) (1.15.0)\n",
            "Requirement already satisfied: graphviz in /usr/local/lib/python3.7/dist-packages (from catboost) (0.10.1)\n",
            "Requirement already satisfied: matplotlib in /usr/local/lib/python3.7/dist-packages (from catboost) (3.2.2)\n",
            "Requirement already satisfied: pandas>=0.24.0 in /usr/local/lib/python3.7/dist-packages (from catboost) (1.3.5)\n",
            "Requirement already satisfied: python-dateutil>=2.7.3 in /usr/local/lib/python3.7/dist-packages (from pandas>=0.24.0->catboost) (2.8.2)\n",
            "Requirement already satisfied: pytz>=2017.3 in /usr/local/lib/python3.7/dist-packages (from pandas>=0.24.0->catboost) (2022.2.1)\n",
            "Requirement already satisfied: kiwisolver>=1.0.1 in /usr/local/lib/python3.7/dist-packages (from matplotlib->catboost) (1.4.4)\n",
            "Requirement already satisfied: cycler>=0.10 in /usr/local/lib/python3.7/dist-packages (from matplotlib->catboost) (0.11.0)\n",
            "Requirement already satisfied: pyparsing!=2.0.4,!=2.1.2,!=2.1.6,>=2.0.1 in /usr/local/lib/python3.7/dist-packages (from matplotlib->catboost) (3.0.9)\n",
            "Requirement already satisfied: typing-extensions in /usr/local/lib/python3.7/dist-packages (from kiwisolver>=1.0.1->matplotlib->catboost) (4.1.1)\n",
            "Requirement already satisfied: tenacity>=6.2.0 in /usr/local/lib/python3.7/dist-packages (from plotly->catboost) (8.0.1)\n",
            "Installing collected packages: catboost\n",
            "Successfully installed catboost-1.1\n"
          ]
        }
      ],
      "source": [
        "#Установка catboost\n",
        "!pip install catboost"
      ]
    },
    {
      "cell_type": "code",
      "execution_count": null,
      "metadata": {
        "id": "1N8qwpY0z-uR"
      },
      "outputs": [],
      "source": [
        "import pandas as pd\n",
        "from itertools import groupby"
      ]
    },
    {
      "cell_type": "code",
      "execution_count": null,
      "metadata": {
        "execution": {
          "iopub.execute_input": "2022-08-09T14:39:28.320317Z",
          "iopub.status.busy": "2022-08-09T14:39:28.319566Z",
          "iopub.status.idle": "2022-08-09T14:39:29.290503Z",
          "shell.execute_reply": "2022-08-09T14:39:29.289461Z",
          "shell.execute_reply.started": "2022-08-09T14:39:28.320281Z"
        },
        "id": "E25l8C4adTU4"
      },
      "outputs": [],
      "source": [
        "#import необходимых модулей\n",
        "\n",
        "import pandas as pd\n",
        "import yaml\n",
        "from sklearn.model_selection import train_test_split\n",
        "from sklearn.metrics import recall_score\n",
        "from sklearn.utils.class_weight import compute_class_weight\n",
        "\n",
        "import numpy as np\n",
        "from datetime import datetime, timedelta\n",
        "\n",
        "from catboost import CatBoostClassifier, Pool"
      ]
    },
    {
      "cell_type": "code",
      "execution_count": null,
      "metadata": {
        "execution": {
          "iopub.execute_input": "2022-08-09T14:39:29.293951Z",
          "iopub.status.busy": "2022-08-09T14:39:29.293259Z",
          "iopub.status.idle": "2022-08-09T14:39:31.877250Z",
          "shell.execute_reply": "2022-08-09T14:39:31.876024Z",
          "shell.execute_reply.started": "2022-08-09T14:39:29.293913Z"
        },
        "id": "WdI39lYbcziV"
      },
      "outputs": [],
      "source": [
        "#Считывание данных в DataFrame \n",
        "train= pd.read_csv('train_net.csv', sep=';', index_col=None)\n",
        "test= pd.read_csv('test_net.csv', sep=';', index_col=None)\n"
      ]
    },
    {
      "cell_type": "code",
      "execution_count": null,
      "metadata": {
        "colab": {
          "base_uri": "https://localhost:8080/",
          "height": 1000
        },
        "execution": {
          "iopub.execute_input": "2022-08-09T14:39:31.881440Z",
          "iopub.status.busy": "2022-08-09T14:39:31.879703Z",
          "iopub.status.idle": "2022-08-09T14:39:31.905965Z",
          "shell.execute_reply": "2022-08-09T14:39:31.905103Z",
          "shell.execute_reply.started": "2022-08-09T14:39:31.881399Z"
        },
        "id": "HeXsMznlz-uV",
        "outputId": "6b0f1307-86e5-4646-b7cf-3beffbf28e61",
        "scrolled": true
      },
      "outputs": [
        {
          "output_type": "execute_result",
          "data": {
            "text/plain": [
              "        id  Analytical thinking  Systemic thinking  Adaptability  Focus  \\\n",
              "0    10884                    4                  4             4      4   \n",
              "1    10106                    5                  4             5      5   \n",
              "2    10438                    6                  5             5      5   \n",
              "3    10130                    5                  4             5      5   \n",
              "4    10667                    4                  5             5      5   \n",
              "..     ...                  ...                ...           ...    ...   \n",
              "675  10563                    5                  4             5      4   \n",
              "676  10386                    5                  4             5      5   \n",
              "677  10675                    5                  4             5      4   \n",
              "678  10366                    4                  4             4      4   \n",
              "679  10340                    4                  4             4      4   \n",
              "\n",
              "     team_id  game_id                                           period_1  \\\n",
              "0       1440      202  Cancellation of bonus for violation of labor d...   \n",
              "1       1536      211  Development of productionвЂ™s optimisation, Bo...   \n",
              "2       1742      242  Manufacturing staff qualification, To place pa...   \n",
              "3       1272      184  Fabrication staff salaty, Analysis of the impo...   \n",
              "4       1382      193  Pick of contractors and providers, Engineers q...   \n",
              "..       ...      ...                                                ...   \n",
              "675     1274      184  Quality of the purchased materials Raw (carbon...   \n",
              "676     1526      210               Medium strategy of staff recruitment   \n",
              "677     1670      235  Optimisation of the loading unitвЂ™s shape, Th...   \n",
              "678     1808      248  Improvement of the documentation of entrance c...   \n",
              "679     1570      215                                       Not decision   \n",
              "\n",
              "                                              period_2  \\\n",
              "0    Contextual advertising, Advertising in print m...   \n",
              "1    Repeat inspection of batch products, Developme...   \n",
              "2    Minimal fixed + % by the results of a period (...   \n",
              "3    Health, Analysis of the market structure for t...   \n",
              "4    Media-advertising, The best physical propertie...   \n",
              "..                                                 ...   \n",
              "675                            Quantity of work shifts   \n",
              "676  Bonuses for innovation and rationalization of ...   \n",
              "677  Size of a reserve stock of MR, Size of a reser...   \n",
              "678  Sending staff on short-term courses of creativ...   \n",
              "679                                       Not decision   \n",
              "\n",
              "                                              period_3  \\\n",
              "0    Managers qualification, Anti-bureaucratic days...   \n",
              "1    Optimizing the placement of equipment, Increas...   \n",
              "2    Quality of the purchased materials Raw (carbon...   \n",
              "3    Education of the dealersвЂ™ sales staff, Quant...   \n",
              "4    Conduct customer analysis on the market, Firef...   \n",
              "..                                                 ...   \n",
              "675  Development of productionвЂ™s optimisation, De...   \n",
              "676  Cancellation of bonus for violation of labor d...   \n",
              "677  Size of a reserve stock of MR, The volume of o...   \n",
              "678  Conducting regular medical examinations and br...   \n",
              "679              Video surveillance systemвЂ™s upgrade   \n",
              "\n",
              "                                              period_4  Период_1_всего  \\\n",
              "0    Size of a reserve stock of WIP, The best aesth...               7   \n",
              "1    R&D enhancement of aesthetic and ergonomic qua...              21   \n",
              "2    Factoring, Quality of the purchased materials ...              62   \n",
              "3    Search and selection of dealers, Contracts of ...              24   \n",
              "4    Bicycles Production line 20000 units, Cumulati...              54   \n",
              "..                                                 ...             ...   \n",
              "675  Size of a reserve stock of FP, Employment of o...              10   \n",
              "676              Sending Engineers on training courses               1   \n",
              "677  The volume of of transportation - Large compan...               4   \n",
              "678  Dividend payout in cash, Transfer the rights t...              10   \n",
              "679  Improvement of the technology of entrance cont...               0   \n",
              "\n",
              "     Период_2_всего  Период_3_всего  Период_4_всего  \\\n",
              "0                14              28               9   \n",
              "1                21              12               8   \n",
              "2                42              58              30   \n",
              "3                24              33              63   \n",
              "4                49             152              19   \n",
              "..              ...             ...             ...   \n",
              "675               1              11               4   \n",
              "676              14              24               1   \n",
              "677              14              20               9   \n",
              "678              44              45              38   \n",
              "679               0               1               2   \n",
              "\n",
              "                                           TestSummAll  \n",
              "0    Cancellation of bonus for violation of labor d...  \n",
              "1    Development of productionвЂ™s optimisation, Bo...  \n",
              "2    Manufacturing staff qualification, To place pa...  \n",
              "3    Fabrication staff salaty, Analysis of the impo...  \n",
              "4    Pick of contractors and providers, Engineers q...  \n",
              "..                                                 ...  \n",
              "675  Quality of the purchased materials Raw (carbon...  \n",
              "676  Medium strategy of staff recruitment Bonuses f...  \n",
              "677  Optimisation of the loading unitвЂ™s shape, Th...  \n",
              "678  Improvement of the documentation of entrance c...  \n",
              "679  Not decision Not decision Video surveillance s...  \n",
              "\n",
              "[680 rows x 16 columns]"
            ],
            "text/html": [
              "\n",
              "  <div id=\"df-2b0ec109-32da-4a47-9cc7-01f6ba7b1f6a\">\n",
              "    <div class=\"colab-df-container\">\n",
              "      <div>\n",
              "<style scoped>\n",
              "    .dataframe tbody tr th:only-of-type {\n",
              "        vertical-align: middle;\n",
              "    }\n",
              "\n",
              "    .dataframe tbody tr th {\n",
              "        vertical-align: top;\n",
              "    }\n",
              "\n",
              "    .dataframe thead th {\n",
              "        text-align: right;\n",
              "    }\n",
              "</style>\n",
              "<table border=\"1\" class=\"dataframe\">\n",
              "  <thead>\n",
              "    <tr style=\"text-align: right;\">\n",
              "      <th></th>\n",
              "      <th>id</th>\n",
              "      <th>Analytical thinking</th>\n",
              "      <th>Systemic thinking</th>\n",
              "      <th>Adaptability</th>\n",
              "      <th>Focus</th>\n",
              "      <th>team_id</th>\n",
              "      <th>game_id</th>\n",
              "      <th>period_1</th>\n",
              "      <th>period_2</th>\n",
              "      <th>period_3</th>\n",
              "      <th>period_4</th>\n",
              "      <th>Период_1_всего</th>\n",
              "      <th>Период_2_всего</th>\n",
              "      <th>Период_3_всего</th>\n",
              "      <th>Период_4_всего</th>\n",
              "      <th>TestSummAll</th>\n",
              "    </tr>\n",
              "  </thead>\n",
              "  <tbody>\n",
              "    <tr>\n",
              "      <th>0</th>\n",
              "      <td>10884</td>\n",
              "      <td>4</td>\n",
              "      <td>4</td>\n",
              "      <td>4</td>\n",
              "      <td>4</td>\n",
              "      <td>1440</td>\n",
              "      <td>202</td>\n",
              "      <td>Cancellation of bonus for violation of labor d...</td>\n",
              "      <td>Contextual advertising, Advertising in print m...</td>\n",
              "      <td>Managers qualification, Anti-bureaucratic days...</td>\n",
              "      <td>Size of a reserve stock of WIP, The best aesth...</td>\n",
              "      <td>7</td>\n",
              "      <td>14</td>\n",
              "      <td>28</td>\n",
              "      <td>9</td>\n",
              "      <td>Cancellation of bonus for violation of labor d...</td>\n",
              "    </tr>\n",
              "    <tr>\n",
              "      <th>1</th>\n",
              "      <td>10106</td>\n",
              "      <td>5</td>\n",
              "      <td>4</td>\n",
              "      <td>5</td>\n",
              "      <td>5</td>\n",
              "      <td>1536</td>\n",
              "      <td>211</td>\n",
              "      <td>Development of productionвЂ™s optimisation, Bo...</td>\n",
              "      <td>Repeat inspection of batch products, Developme...</td>\n",
              "      <td>Optimizing the placement of equipment, Increas...</td>\n",
              "      <td>R&amp;D enhancement of aesthetic and ergonomic qua...</td>\n",
              "      <td>21</td>\n",
              "      <td>21</td>\n",
              "      <td>12</td>\n",
              "      <td>8</td>\n",
              "      <td>Development of productionвЂ™s optimisation, Bo...</td>\n",
              "    </tr>\n",
              "    <tr>\n",
              "      <th>2</th>\n",
              "      <td>10438</td>\n",
              "      <td>6</td>\n",
              "      <td>5</td>\n",
              "      <td>5</td>\n",
              "      <td>5</td>\n",
              "      <td>1742</td>\n",
              "      <td>242</td>\n",
              "      <td>Manufacturing staff qualification, To place pa...</td>\n",
              "      <td>Minimal fixed + % by the results of a period (...</td>\n",
              "      <td>Quality of the purchased materials Raw (carbon...</td>\n",
              "      <td>Factoring, Quality of the purchased materials ...</td>\n",
              "      <td>62</td>\n",
              "      <td>42</td>\n",
              "      <td>58</td>\n",
              "      <td>30</td>\n",
              "      <td>Manufacturing staff qualification, To place pa...</td>\n",
              "    </tr>\n",
              "    <tr>\n",
              "      <th>3</th>\n",
              "      <td>10130</td>\n",
              "      <td>5</td>\n",
              "      <td>4</td>\n",
              "      <td>5</td>\n",
              "      <td>5</td>\n",
              "      <td>1272</td>\n",
              "      <td>184</td>\n",
              "      <td>Fabrication staff salaty, Analysis of the impo...</td>\n",
              "      <td>Health, Analysis of the market structure for t...</td>\n",
              "      <td>Education of the dealersвЂ™ sales staff, Quant...</td>\n",
              "      <td>Search and selection of dealers, Contracts of ...</td>\n",
              "      <td>24</td>\n",
              "      <td>24</td>\n",
              "      <td>33</td>\n",
              "      <td>63</td>\n",
              "      <td>Fabrication staff salaty, Analysis of the impo...</td>\n",
              "    </tr>\n",
              "    <tr>\n",
              "      <th>4</th>\n",
              "      <td>10667</td>\n",
              "      <td>4</td>\n",
              "      <td>5</td>\n",
              "      <td>5</td>\n",
              "      <td>5</td>\n",
              "      <td>1382</td>\n",
              "      <td>193</td>\n",
              "      <td>Pick of contractors and providers, Engineers q...</td>\n",
              "      <td>Media-advertising, The best physical propertie...</td>\n",
              "      <td>Conduct customer analysis on the market, Firef...</td>\n",
              "      <td>Bicycles Production line 20000 units, Cumulati...</td>\n",
              "      <td>54</td>\n",
              "      <td>49</td>\n",
              "      <td>152</td>\n",
              "      <td>19</td>\n",
              "      <td>Pick of contractors and providers, Engineers q...</td>\n",
              "    </tr>\n",
              "    <tr>\n",
              "      <th>...</th>\n",
              "      <td>...</td>\n",
              "      <td>...</td>\n",
              "      <td>...</td>\n",
              "      <td>...</td>\n",
              "      <td>...</td>\n",
              "      <td>...</td>\n",
              "      <td>...</td>\n",
              "      <td>...</td>\n",
              "      <td>...</td>\n",
              "      <td>...</td>\n",
              "      <td>...</td>\n",
              "      <td>...</td>\n",
              "      <td>...</td>\n",
              "      <td>...</td>\n",
              "      <td>...</td>\n",
              "      <td>...</td>\n",
              "    </tr>\n",
              "    <tr>\n",
              "      <th>675</th>\n",
              "      <td>10563</td>\n",
              "      <td>5</td>\n",
              "      <td>4</td>\n",
              "      <td>5</td>\n",
              "      <td>4</td>\n",
              "      <td>1274</td>\n",
              "      <td>184</td>\n",
              "      <td>Quality of the purchased materials Raw (carbon...</td>\n",
              "      <td>Quantity of work shifts</td>\n",
              "      <td>Development of productionвЂ™s optimisation, De...</td>\n",
              "      <td>Size of a reserve stock of FP, Employment of o...</td>\n",
              "      <td>10</td>\n",
              "      <td>1</td>\n",
              "      <td>11</td>\n",
              "      <td>4</td>\n",
              "      <td>Quality of the purchased materials Raw (carbon...</td>\n",
              "    </tr>\n",
              "    <tr>\n",
              "      <th>676</th>\n",
              "      <td>10386</td>\n",
              "      <td>5</td>\n",
              "      <td>4</td>\n",
              "      <td>5</td>\n",
              "      <td>5</td>\n",
              "      <td>1526</td>\n",
              "      <td>210</td>\n",
              "      <td>Medium strategy of staff recruitment</td>\n",
              "      <td>Bonuses for innovation and rationalization of ...</td>\n",
              "      <td>Cancellation of bonus for violation of labor d...</td>\n",
              "      <td>Sending Engineers on training courses</td>\n",
              "      <td>1</td>\n",
              "      <td>14</td>\n",
              "      <td>24</td>\n",
              "      <td>1</td>\n",
              "      <td>Medium strategy of staff recruitment Bonuses f...</td>\n",
              "    </tr>\n",
              "    <tr>\n",
              "      <th>677</th>\n",
              "      <td>10675</td>\n",
              "      <td>5</td>\n",
              "      <td>4</td>\n",
              "      <td>5</td>\n",
              "      <td>4</td>\n",
              "      <td>1670</td>\n",
              "      <td>235</td>\n",
              "      <td>Optimisation of the loading unitвЂ™s shape, Th...</td>\n",
              "      <td>Size of a reserve stock of MR, Size of a reser...</td>\n",
              "      <td>Size of a reserve stock of MR, The volume of o...</td>\n",
              "      <td>The volume of of transportation - Large compan...</td>\n",
              "      <td>4</td>\n",
              "      <td>14</td>\n",
              "      <td>20</td>\n",
              "      <td>9</td>\n",
              "      <td>Optimisation of the loading unitвЂ™s shape, Th...</td>\n",
              "    </tr>\n",
              "    <tr>\n",
              "      <th>678</th>\n",
              "      <td>10366</td>\n",
              "      <td>4</td>\n",
              "      <td>4</td>\n",
              "      <td>4</td>\n",
              "      <td>4</td>\n",
              "      <td>1808</td>\n",
              "      <td>248</td>\n",
              "      <td>Improvement of the documentation of entrance c...</td>\n",
              "      <td>Sending staff on short-term courses of creativ...</td>\n",
              "      <td>Conducting regular medical examinations and br...</td>\n",
              "      <td>Dividend payout in cash, Transfer the rights t...</td>\n",
              "      <td>10</td>\n",
              "      <td>44</td>\n",
              "      <td>45</td>\n",
              "      <td>38</td>\n",
              "      <td>Improvement of the documentation of entrance c...</td>\n",
              "    </tr>\n",
              "    <tr>\n",
              "      <th>679</th>\n",
              "      <td>10340</td>\n",
              "      <td>4</td>\n",
              "      <td>4</td>\n",
              "      <td>4</td>\n",
              "      <td>4</td>\n",
              "      <td>1570</td>\n",
              "      <td>215</td>\n",
              "      <td>Not decision</td>\n",
              "      <td>Not decision</td>\n",
              "      <td>Video surveillance systemвЂ™s upgrade</td>\n",
              "      <td>Improvement of the technology of entrance cont...</td>\n",
              "      <td>0</td>\n",
              "      <td>0</td>\n",
              "      <td>1</td>\n",
              "      <td>2</td>\n",
              "      <td>Not decision Not decision Video surveillance s...</td>\n",
              "    </tr>\n",
              "  </tbody>\n",
              "</table>\n",
              "<p>680 rows × 16 columns</p>\n",
              "</div>\n",
              "      <button class=\"colab-df-convert\" onclick=\"convertToInteractive('df-2b0ec109-32da-4a47-9cc7-01f6ba7b1f6a')\"\n",
              "              title=\"Convert this dataframe to an interactive table.\"\n",
              "              style=\"display:none;\">\n",
              "        \n",
              "  <svg xmlns=\"http://www.w3.org/2000/svg\" height=\"24px\"viewBox=\"0 0 24 24\"\n",
              "       width=\"24px\">\n",
              "    <path d=\"M0 0h24v24H0V0z\" fill=\"none\"/>\n",
              "    <path d=\"M18.56 5.44l.94 2.06.94-2.06 2.06-.94-2.06-.94-.94-2.06-.94 2.06-2.06.94zm-11 1L8.5 8.5l.94-2.06 2.06-.94-2.06-.94L8.5 2.5l-.94 2.06-2.06.94zm10 10l.94 2.06.94-2.06 2.06-.94-2.06-.94-.94-2.06-.94 2.06-2.06.94z\"/><path d=\"M17.41 7.96l-1.37-1.37c-.4-.4-.92-.59-1.43-.59-.52 0-1.04.2-1.43.59L10.3 9.45l-7.72 7.72c-.78.78-.78 2.05 0 2.83L4 21.41c.39.39.9.59 1.41.59.51 0 1.02-.2 1.41-.59l7.78-7.78 2.81-2.81c.8-.78.8-2.07 0-2.86zM5.41 20L4 18.59l7.72-7.72 1.47 1.35L5.41 20z\"/>\n",
              "  </svg>\n",
              "      </button>\n",
              "      \n",
              "  <style>\n",
              "    .colab-df-container {\n",
              "      display:flex;\n",
              "      flex-wrap:wrap;\n",
              "      gap: 12px;\n",
              "    }\n",
              "\n",
              "    .colab-df-convert {\n",
              "      background-color: #E8F0FE;\n",
              "      border: none;\n",
              "      border-radius: 50%;\n",
              "      cursor: pointer;\n",
              "      display: none;\n",
              "      fill: #1967D2;\n",
              "      height: 32px;\n",
              "      padding: 0 0 0 0;\n",
              "      width: 32px;\n",
              "    }\n",
              "\n",
              "    .colab-df-convert:hover {\n",
              "      background-color: #E2EBFA;\n",
              "      box-shadow: 0px 1px 2px rgba(60, 64, 67, 0.3), 0px 1px 3px 1px rgba(60, 64, 67, 0.15);\n",
              "      fill: #174EA6;\n",
              "    }\n",
              "\n",
              "    [theme=dark] .colab-df-convert {\n",
              "      background-color: #3B4455;\n",
              "      fill: #D2E3FC;\n",
              "    }\n",
              "\n",
              "    [theme=dark] .colab-df-convert:hover {\n",
              "      background-color: #434B5C;\n",
              "      box-shadow: 0px 1px 3px 1px rgba(0, 0, 0, 0.15);\n",
              "      filter: drop-shadow(0px 1px 2px rgba(0, 0, 0, 0.3));\n",
              "      fill: #FFFFFF;\n",
              "    }\n",
              "  </style>\n",
              "\n",
              "      <script>\n",
              "        const buttonEl =\n",
              "          document.querySelector('#df-2b0ec109-32da-4a47-9cc7-01f6ba7b1f6a button.colab-df-convert');\n",
              "        buttonEl.style.display =\n",
              "          google.colab.kernel.accessAllowed ? 'block' : 'none';\n",
              "\n",
              "        async function convertToInteractive(key) {\n",
              "          const element = document.querySelector('#df-2b0ec109-32da-4a47-9cc7-01f6ba7b1f6a');\n",
              "          const dataTable =\n",
              "            await google.colab.kernel.invokeFunction('convertToInteractive',\n",
              "                                                     [key], {});\n",
              "          if (!dataTable) return;\n",
              "\n",
              "          const docLinkHtml = 'Like what you see? Visit the ' +\n",
              "            '<a target=\"_blank\" href=https://colab.research.google.com/notebooks/data_table.ipynb>data table notebook</a>'\n",
              "            + ' to learn more about interactive tables.';\n",
              "          element.innerHTML = '';\n",
              "          dataTable['output_type'] = 'display_data';\n",
              "          await google.colab.output.renderOutput(dataTable, element);\n",
              "          const docLink = document.createElement('div');\n",
              "          docLink.innerHTML = docLinkHtml;\n",
              "          element.appendChild(docLink);\n",
              "        }\n",
              "      </script>\n",
              "    </div>\n",
              "  </div>\n",
              "  "
            ]
          },
          "metadata": {},
          "execution_count": 6
        }
      ],
      "source": [
        "train"
      ]
    },
    {
      "cell_type": "code",
      "execution_count": null,
      "metadata": {
        "colab": {
          "base_uri": "https://localhost:8080/",
          "height": 832
        },
        "execution": {
          "iopub.execute_input": "2022-08-09T14:39:31.907898Z",
          "iopub.status.busy": "2022-08-09T14:39:31.907540Z",
          "iopub.status.idle": "2022-08-09T14:39:31.922034Z",
          "shell.execute_reply": "2022-08-09T14:39:31.920925Z",
          "shell.execute_reply.started": "2022-08-09T14:39:31.907864Z"
        },
        "id": "GbVpqHAbz-uW",
        "outputId": "89459041-7c0f-4bb9-a920-6b1f8d0a5f57",
        "scrolled": true
      },
      "outputs": [
        {
          "output_type": "execute_result",
          "data": {
            "text/plain": [
              "        id  team_id  game_id  \\\n",
              "0    10199     1912      262   \n",
              "1    10539     1458      204   \n",
              "2    10174     1348      190   \n",
              "3    10465     1760      244   \n",
              "4    10066     1260      183   \n",
              "..     ...      ...      ...   \n",
              "288  10433     1562      214   \n",
              "289  10893     1278      184   \n",
              "290  10909     1474      206   \n",
              "291  10889     1268      184   \n",
              "292  10613     1530      210   \n",
              "\n",
              "                                              period_1  \\\n",
              "0    Setting the base selling price, Quantity of wo...   \n",
              "1                         Additions to reserve capital   \n",
              "2                                         Not decision   \n",
              "3    Improvement of the technology of entrance cont...   \n",
              "4    Quantity of work shifts, Keep up the aesthetic...   \n",
              "..                                                 ...   \n",
              "288  Pick of contractors and providers, Value of pr...   \n",
              "289  R&D enhancement of assortment qualities Standa...   \n",
              "290                                       Not decision   \n",
              "291  Renewal of checkpoints in production and stora...   \n",
              "292     Managers salary, Size of a reserve stock of FP   \n",
              "\n",
              "                                              period_2  \\\n",
              "0       Additions to reserve capital, Volume discounts   \n",
              "1    Pick of contractors and providers, Additional ...   \n",
              "2    Improvement of the technology of entrance cont...   \n",
              "3    R&D enhancement of assortment qualities Standa...   \n",
              "4    Bonuses for the fulfillment of the production ...   \n",
              "..                                                 ...   \n",
              "288  Analysis of the importance of product properti...   \n",
              "289  Discipline, Moral qualities, Independently hir...   \n",
              "290                                       Not decision   \n",
              "291  Security alarm upgrade, Evaluation of the char...   \n",
              "292  Quantity of work shifts, Bonuses for saving ma...   \n",
              "\n",
              "                                              period_3  \\\n",
              "0    Development and functioning of the companyвЂ™s...   \n",
              "1    [Company #1] Acquisition of the company, Metho...   \n",
              "2    Establishment of mid-term contract - Industria...   \n",
              "3    To sell overdue accounts receivable, which do ...   \n",
              "4    Development of productionвЂ™s optimisation, Qu...   \n",
              "..                                                 ...   \n",
              "288                            Quantity of work shifts   \n",
              "289  Collection information and statistics of the d...   \n",
              "290                                       Not decision   \n",
              "291  Advertising in print media, Radio advertising,...   \n",
              "292  Appoint persons responsible for energy efficie...   \n",
              "\n",
              "                                              period_4  Период_1_всего  \\\n",
              "0    Hoverbikes Production line 2500 units, Setting...               2   \n",
              "1    Bicycles Production line 40000 units, Increase...               1   \n",
              "2    Quality of the purchased materials Lubricants\"...               0   \n",
              "3    Research on elasticity of market demand, [long...              15   \n",
              "4    Enguneers salary, Stepwise staff numerosityвЂ™...               7   \n",
              "..                                                 ...             ...   \n",
              "288                                       Not decision              15   \n",
              "289  Creativity, Managers salary, Discipline, Hirin...              14   \n",
              "290  The volume of of transportation - Worldwide co...               0   \n",
              "291               Analysis of the product satisfaction               6   \n",
              "292  Media-advertising, Direct sales, QuartersвЂ™ b...               2   \n",
              "\n",
              "     Период_2_всего  Период_3_всего  Период_4_всего  \\\n",
              "0                 2               3               2   \n",
              "1                 9              12              13   \n",
              "2                28              21              16   \n",
              "3                18              29              17   \n",
              "4                23              16               6   \n",
              "..              ...             ...             ...   \n",
              "288               6               1               0   \n",
              "289              52              34              18   \n",
              "290               0               0               1   \n",
              "291               2               5               1   \n",
              "292               2               8               7   \n",
              "\n",
              "                                           TestSummAll  \n",
              "0    Setting the base selling price, Quantity of wo...  \n",
              "1    Additions to reserve capital Pick of contracto...  \n",
              "2    Not decision Improvement of the technology of ...  \n",
              "3    Improvement of the technology of entrance cont...  \n",
              "4    Quantity of work shifts, Keep up the aesthetic...  \n",
              "..                                                 ...  \n",
              "288  Pick of contractors and providers, Value of pr...  \n",
              "289  R&D enhancement of assortment qualities Standa...  \n",
              "290  Not decision Not decision Not decision The vol...  \n",
              "291  Renewal of checkpoints in production and stora...  \n",
              "292  Managers salary, Size of a reserve stock of FP...  \n",
              "\n",
              "[293 rows x 12 columns]"
            ],
            "text/html": [
              "\n",
              "  <div id=\"df-4dc853a5-a1e9-4a1f-8bdf-4b58b7ed96af\">\n",
              "    <div class=\"colab-df-container\">\n",
              "      <div>\n",
              "<style scoped>\n",
              "    .dataframe tbody tr th:only-of-type {\n",
              "        vertical-align: middle;\n",
              "    }\n",
              "\n",
              "    .dataframe tbody tr th {\n",
              "        vertical-align: top;\n",
              "    }\n",
              "\n",
              "    .dataframe thead th {\n",
              "        text-align: right;\n",
              "    }\n",
              "</style>\n",
              "<table border=\"1\" class=\"dataframe\">\n",
              "  <thead>\n",
              "    <tr style=\"text-align: right;\">\n",
              "      <th></th>\n",
              "      <th>id</th>\n",
              "      <th>team_id</th>\n",
              "      <th>game_id</th>\n",
              "      <th>period_1</th>\n",
              "      <th>period_2</th>\n",
              "      <th>period_3</th>\n",
              "      <th>period_4</th>\n",
              "      <th>Период_1_всего</th>\n",
              "      <th>Период_2_всего</th>\n",
              "      <th>Период_3_всего</th>\n",
              "      <th>Период_4_всего</th>\n",
              "      <th>TestSummAll</th>\n",
              "    </tr>\n",
              "  </thead>\n",
              "  <tbody>\n",
              "    <tr>\n",
              "      <th>0</th>\n",
              "      <td>10199</td>\n",
              "      <td>1912</td>\n",
              "      <td>262</td>\n",
              "      <td>Setting the base selling price, Quantity of wo...</td>\n",
              "      <td>Additions to reserve capital, Volume discounts</td>\n",
              "      <td>Development and functioning of the companyвЂ™s...</td>\n",
              "      <td>Hoverbikes Production line 2500 units, Setting...</td>\n",
              "      <td>2</td>\n",
              "      <td>2</td>\n",
              "      <td>3</td>\n",
              "      <td>2</td>\n",
              "      <td>Setting the base selling price, Quantity of wo...</td>\n",
              "    </tr>\n",
              "    <tr>\n",
              "      <th>1</th>\n",
              "      <td>10539</td>\n",
              "      <td>1458</td>\n",
              "      <td>204</td>\n",
              "      <td>Additions to reserve capital</td>\n",
              "      <td>Pick of contractors and providers, Additional ...</td>\n",
              "      <td>[Company #1] Acquisition of the company, Metho...</td>\n",
              "      <td>Bicycles Production line 40000 units, Increase...</td>\n",
              "      <td>1</td>\n",
              "      <td>9</td>\n",
              "      <td>12</td>\n",
              "      <td>13</td>\n",
              "      <td>Additions to reserve capital Pick of contracto...</td>\n",
              "    </tr>\n",
              "    <tr>\n",
              "      <th>2</th>\n",
              "      <td>10174</td>\n",
              "      <td>1348</td>\n",
              "      <td>190</td>\n",
              "      <td>Not decision</td>\n",
              "      <td>Improvement of the technology of entrance cont...</td>\n",
              "      <td>Establishment of mid-term contract - Industria...</td>\n",
              "      <td>Quality of the purchased materials Lubricants\"...</td>\n",
              "      <td>0</td>\n",
              "      <td>28</td>\n",
              "      <td>21</td>\n",
              "      <td>16</td>\n",
              "      <td>Not decision Improvement of the technology of ...</td>\n",
              "    </tr>\n",
              "    <tr>\n",
              "      <th>3</th>\n",
              "      <td>10465</td>\n",
              "      <td>1760</td>\n",
              "      <td>244</td>\n",
              "      <td>Improvement of the technology of entrance cont...</td>\n",
              "      <td>R&amp;D enhancement of assortment qualities Standa...</td>\n",
              "      <td>To sell overdue accounts receivable, which do ...</td>\n",
              "      <td>Research on elasticity of market demand, [long...</td>\n",
              "      <td>15</td>\n",
              "      <td>18</td>\n",
              "      <td>29</td>\n",
              "      <td>17</td>\n",
              "      <td>Improvement of the technology of entrance cont...</td>\n",
              "    </tr>\n",
              "    <tr>\n",
              "      <th>4</th>\n",
              "      <td>10066</td>\n",
              "      <td>1260</td>\n",
              "      <td>183</td>\n",
              "      <td>Quantity of work shifts, Keep up the aesthetic...</td>\n",
              "      <td>Bonuses for the fulfillment of the production ...</td>\n",
              "      <td>Development of productionвЂ™s optimisation, Qu...</td>\n",
              "      <td>Enguneers salary, Stepwise staff numerosityвЂ™...</td>\n",
              "      <td>7</td>\n",
              "      <td>23</td>\n",
              "      <td>16</td>\n",
              "      <td>6</td>\n",
              "      <td>Quantity of work shifts, Keep up the aesthetic...</td>\n",
              "    </tr>\n",
              "    <tr>\n",
              "      <th>...</th>\n",
              "      <td>...</td>\n",
              "      <td>...</td>\n",
              "      <td>...</td>\n",
              "      <td>...</td>\n",
              "      <td>...</td>\n",
              "      <td>...</td>\n",
              "      <td>...</td>\n",
              "      <td>...</td>\n",
              "      <td>...</td>\n",
              "      <td>...</td>\n",
              "      <td>...</td>\n",
              "      <td>...</td>\n",
              "    </tr>\n",
              "    <tr>\n",
              "      <th>288</th>\n",
              "      <td>10433</td>\n",
              "      <td>1562</td>\n",
              "      <td>214</td>\n",
              "      <td>Pick of contractors and providers, Value of pr...</td>\n",
              "      <td>Analysis of the importance of product properti...</td>\n",
              "      <td>Quantity of work shifts</td>\n",
              "      <td>Not decision</td>\n",
              "      <td>15</td>\n",
              "      <td>6</td>\n",
              "      <td>1</td>\n",
              "      <td>0</td>\n",
              "      <td>Pick of contractors and providers, Value of pr...</td>\n",
              "    </tr>\n",
              "    <tr>\n",
              "      <th>289</th>\n",
              "      <td>10893</td>\n",
              "      <td>1278</td>\n",
              "      <td>184</td>\n",
              "      <td>R&amp;D enhancement of assortment qualities Standa...</td>\n",
              "      <td>Discipline, Moral qualities, Independently hir...</td>\n",
              "      <td>Collection information and statistics of the d...</td>\n",
              "      <td>Creativity, Managers salary, Discipline, Hirin...</td>\n",
              "      <td>14</td>\n",
              "      <td>52</td>\n",
              "      <td>34</td>\n",
              "      <td>18</td>\n",
              "      <td>R&amp;D enhancement of assortment qualities Standa...</td>\n",
              "    </tr>\n",
              "    <tr>\n",
              "      <th>290</th>\n",
              "      <td>10909</td>\n",
              "      <td>1474</td>\n",
              "      <td>206</td>\n",
              "      <td>Not decision</td>\n",
              "      <td>Not decision</td>\n",
              "      <td>Not decision</td>\n",
              "      <td>The volume of of transportation - Worldwide co...</td>\n",
              "      <td>0</td>\n",
              "      <td>0</td>\n",
              "      <td>0</td>\n",
              "      <td>1</td>\n",
              "      <td>Not decision Not decision Not decision The vol...</td>\n",
              "    </tr>\n",
              "    <tr>\n",
              "      <th>291</th>\n",
              "      <td>10889</td>\n",
              "      <td>1268</td>\n",
              "      <td>184</td>\n",
              "      <td>Renewal of checkpoints in production and stora...</td>\n",
              "      <td>Security alarm upgrade, Evaluation of the char...</td>\n",
              "      <td>Advertising in print media, Radio advertising,...</td>\n",
              "      <td>Analysis of the product satisfaction</td>\n",
              "      <td>6</td>\n",
              "      <td>2</td>\n",
              "      <td>5</td>\n",
              "      <td>1</td>\n",
              "      <td>Renewal of checkpoints in production and stora...</td>\n",
              "    </tr>\n",
              "    <tr>\n",
              "      <th>292</th>\n",
              "      <td>10613</td>\n",
              "      <td>1530</td>\n",
              "      <td>210</td>\n",
              "      <td>Managers salary, Size of a reserve stock of FP</td>\n",
              "      <td>Quantity of work shifts, Bonuses for saving ma...</td>\n",
              "      <td>Appoint persons responsible for energy efficie...</td>\n",
              "      <td>Media-advertising, Direct sales, QuartersвЂ™ b...</td>\n",
              "      <td>2</td>\n",
              "      <td>2</td>\n",
              "      <td>8</td>\n",
              "      <td>7</td>\n",
              "      <td>Managers salary, Size of a reserve stock of FP...</td>\n",
              "    </tr>\n",
              "  </tbody>\n",
              "</table>\n",
              "<p>293 rows × 12 columns</p>\n",
              "</div>\n",
              "      <button class=\"colab-df-convert\" onclick=\"convertToInteractive('df-4dc853a5-a1e9-4a1f-8bdf-4b58b7ed96af')\"\n",
              "              title=\"Convert this dataframe to an interactive table.\"\n",
              "              style=\"display:none;\">\n",
              "        \n",
              "  <svg xmlns=\"http://www.w3.org/2000/svg\" height=\"24px\"viewBox=\"0 0 24 24\"\n",
              "       width=\"24px\">\n",
              "    <path d=\"M0 0h24v24H0V0z\" fill=\"none\"/>\n",
              "    <path d=\"M18.56 5.44l.94 2.06.94-2.06 2.06-.94-2.06-.94-.94-2.06-.94 2.06-2.06.94zm-11 1L8.5 8.5l.94-2.06 2.06-.94-2.06-.94L8.5 2.5l-.94 2.06-2.06.94zm10 10l.94 2.06.94-2.06 2.06-.94-2.06-.94-.94-2.06-.94 2.06-2.06.94z\"/><path d=\"M17.41 7.96l-1.37-1.37c-.4-.4-.92-.59-1.43-.59-.52 0-1.04.2-1.43.59L10.3 9.45l-7.72 7.72c-.78.78-.78 2.05 0 2.83L4 21.41c.39.39.9.59 1.41.59.51 0 1.02-.2 1.41-.59l7.78-7.78 2.81-2.81c.8-.78.8-2.07 0-2.86zM5.41 20L4 18.59l7.72-7.72 1.47 1.35L5.41 20z\"/>\n",
              "  </svg>\n",
              "      </button>\n",
              "      \n",
              "  <style>\n",
              "    .colab-df-container {\n",
              "      display:flex;\n",
              "      flex-wrap:wrap;\n",
              "      gap: 12px;\n",
              "    }\n",
              "\n",
              "    .colab-df-convert {\n",
              "      background-color: #E8F0FE;\n",
              "      border: none;\n",
              "      border-radius: 50%;\n",
              "      cursor: pointer;\n",
              "      display: none;\n",
              "      fill: #1967D2;\n",
              "      height: 32px;\n",
              "      padding: 0 0 0 0;\n",
              "      width: 32px;\n",
              "    }\n",
              "\n",
              "    .colab-df-convert:hover {\n",
              "      background-color: #E2EBFA;\n",
              "      box-shadow: 0px 1px 2px rgba(60, 64, 67, 0.3), 0px 1px 3px 1px rgba(60, 64, 67, 0.15);\n",
              "      fill: #174EA6;\n",
              "    }\n",
              "\n",
              "    [theme=dark] .colab-df-convert {\n",
              "      background-color: #3B4455;\n",
              "      fill: #D2E3FC;\n",
              "    }\n",
              "\n",
              "    [theme=dark] .colab-df-convert:hover {\n",
              "      background-color: #434B5C;\n",
              "      box-shadow: 0px 1px 3px 1px rgba(0, 0, 0, 0.15);\n",
              "      filter: drop-shadow(0px 1px 2px rgba(0, 0, 0, 0.3));\n",
              "      fill: #FFFFFF;\n",
              "    }\n",
              "  </style>\n",
              "\n",
              "      <script>\n",
              "        const buttonEl =\n",
              "          document.querySelector('#df-4dc853a5-a1e9-4a1f-8bdf-4b58b7ed96af button.colab-df-convert');\n",
              "        buttonEl.style.display =\n",
              "          google.colab.kernel.accessAllowed ? 'block' : 'none';\n",
              "\n",
              "        async function convertToInteractive(key) {\n",
              "          const element = document.querySelector('#df-4dc853a5-a1e9-4a1f-8bdf-4b58b7ed96af');\n",
              "          const dataTable =\n",
              "            await google.colab.kernel.invokeFunction('convertToInteractive',\n",
              "                                                     [key], {});\n",
              "          if (!dataTable) return;\n",
              "\n",
              "          const docLinkHtml = 'Like what you see? Visit the ' +\n",
              "            '<a target=\"_blank\" href=https://colab.research.google.com/notebooks/data_table.ipynb>data table notebook</a>'\n",
              "            + ' to learn more about interactive tables.';\n",
              "          element.innerHTML = '';\n",
              "          dataTable['output_type'] = 'display_data';\n",
              "          await google.colab.output.renderOutput(dataTable, element);\n",
              "          const docLink = document.createElement('div');\n",
              "          docLink.innerHTML = docLinkHtml;\n",
              "          element.appendChild(docLink);\n",
              "        }\n",
              "      </script>\n",
              "    </div>\n",
              "  </div>\n",
              "  "
            ]
          },
          "metadata": {},
          "execution_count": 7
        }
      ],
      "source": [
        "test"
      ]
    },
    {
      "cell_type": "code",
      "execution_count": null,
      "metadata": {
        "colab": {
          "base_uri": "https://localhost:8080/"
        },
        "id": "r0AFzCW3z-uY",
        "outputId": "74624ff2-6b99-4dd5-ae1e-fc2ce8710861"
      },
      "outputs": [
        {
          "output_type": "execute_result",
          "data": {
            "text/plain": [
              "Index(['id', 'Analytical thinking', 'Systemic thinking', 'Adaptability',\n",
              "       'Focus', 'team_id', 'game_id', 'period_1', 'period_2', 'period_3',\n",
              "       'period_4', 'Период_1_всего', 'Период_2_всего', 'Период_3_всего',\n",
              "       'Период_4_всего', 'TestSummAll'],\n",
              "      dtype='object')"
            ]
          },
          "metadata": {},
          "execution_count": 8
        }
      ],
      "source": [
        "train.columns"
      ]
    },
    {
      "cell_type": "code",
      "execution_count": null,
      "metadata": {
        "id": "hPyebSkW0yOm"
      },
      "outputs": [],
      "source": [
        "# выбираем поля для нейросети СatBoost по бинарной классификации для 1-й оценки\n",
        "\n",
        "\n",
        "y_train=train[['Analytical thinking']]\n",
        "X_train=train[['team_id', 'game_id', 'period_1', 'period_2', 'period_3',\n",
        "       'period_4','Период_1_всего', 'Период_2_всего', 'Период_3_всего','Период_4_всего']]\n",
        "\n",
        "testnet=test[['team_id', 'game_id', 'period_1', 'period_2', 'period_3',\n",
        "       'period_4','Период_1_всего', 'Период_2_всего', 'Период_3_всего','Период_4_всего']]"
      ]
    },
    {
      "cell_type": "code",
      "execution_count": null,
      "metadata": {
        "colab": {
          "base_uri": "https://localhost:8080/"
        },
        "id": "YnqtsEBT0yOn",
        "outputId": "84bfcc8f-2107-4854-dfa1-1e236b270238"
      },
      "outputs": [
        {
          "output_type": "execute_result",
          "data": {
            "text/plain": [
              "{1: 34.0,\n",
              " 3: 3.7777777777777777,\n",
              " 4: 0.3261390887290168,\n",
              " 5: 0.6507177033492823,\n",
              " 6: 9.714285714285714}"
            ]
          },
          "metadata": {},
          "execution_count": 10
        }
      ],
      "source": [
        "# Определяем веса для классов кластеров\n",
        "classes = np.unique(y_train)\n",
        "weights = compute_class_weight(class_weight='balanced', classes = np.unique(y_train), y = np.ravel(y_train))\n",
        "class_weights = dict(zip(classes, weights))\n",
        "class_weights"
      ]
    },
    {
      "cell_type": "code",
      "execution_count": null,
      "metadata": {
        "colab": {
          "base_uri": "https://localhost:8080/"
        },
        "id": "AKvgTx890yOo",
        "outputId": "de379d29-cff2-407a-be4f-4a4af059c668"
      },
      "outputs": [
        {
          "output_type": "stream",
          "name": "stdout",
          "text": [
            "0:\tlearn: 0.8019559\ttotal: 304ms\tremaining: 14.9s\n",
            "1:\tlearn: 0.8468695\ttotal: 471ms\tremaining: 11.3s\n",
            "2:\tlearn: 0.8564458\ttotal: 632ms\tremaining: 9.9s\n",
            "3:\tlearn: 0.8567163\ttotal: 774ms\tremaining: 8.9s\n",
            "4:\tlearn: 0.8648629\ttotal: 932ms\tremaining: 8.39s\n",
            "5:\tlearn: 0.8725253\ttotal: 1.07s\tremaining: 7.87s\n",
            "6:\tlearn: 0.8830700\ttotal: 1.26s\tremaining: 7.75s\n",
            "7:\tlearn: 0.8773192\ttotal: 1.41s\tremaining: 7.39s\n",
            "8:\tlearn: 0.8840224\ttotal: 1.56s\tremaining: 7.1s\n",
            "9:\tlearn: 0.8916801\ttotal: 1.72s\tremaining: 6.88s\n",
            "10:\tlearn: 0.8974424\ttotal: 1.87s\tremaining: 6.63s\n",
            "11:\tlearn: 0.9007997\ttotal: 2.03s\tremaining: 6.43s\n",
            "12:\tlearn: 0.9065460\ttotal: 2.18s\tremaining: 6.21s\n",
            "13:\tlearn: 0.9075052\ttotal: 2.35s\tremaining: 6.05s\n",
            "14:\tlearn: 0.9065437\ttotal: 2.51s\tremaining: 5.86s\n",
            "15:\tlearn: 0.9137379\ttotal: 2.68s\tremaining: 5.7s\n",
            "16:\tlearn: 0.9170906\ttotal: 2.84s\tremaining: 5.51s\n",
            "17:\tlearn: 0.9214026\ttotal: 3.02s\tremaining: 5.37s\n",
            "18:\tlearn: 0.9223664\ttotal: 3.18s\tremaining: 5.19s\n",
            "19:\tlearn: 0.9266807\ttotal: 3.33s\tremaining: 4.99s\n",
            "20:\tlearn: 0.9271603\ttotal: 3.47s\tremaining: 4.79s\n",
            "21:\tlearn: 0.9233256\ttotal: 3.62s\tremaining: 4.61s\n",
            "22:\tlearn: 0.9271603\ttotal: 3.8s\tremaining: 4.46s\n",
            "23:\tlearn: 0.9319541\ttotal: 3.96s\tremaining: 4.29s\n",
            "24:\tlearn: 0.9309949\ttotal: 4.12s\tremaining: 4.12s\n",
            "25:\tlearn: 0.9305153\ttotal: 4.27s\tremaining: 3.94s\n",
            "26:\tlearn: 0.9324315\ttotal: 4.46s\tremaining: 3.8s\n",
            "27:\tlearn: 0.9338703\ttotal: 4.62s\tremaining: 3.63s\n",
            "28:\tlearn: 0.9314722\ttotal: 4.76s\tremaining: 3.45s\n",
            "29:\tlearn: 0.9300380\ttotal: 4.92s\tremaining: 3.28s\n",
            "30:\tlearn: 0.9319541\ttotal: 5.07s\tremaining: 3.11s\n",
            "31:\tlearn: 0.9300380\ttotal: 5.24s\tremaining: 2.94s\n",
            "32:\tlearn: 0.9338749\ttotal: 5.42s\tremaining: 2.79s\n",
            "33:\tlearn: 0.9333953\ttotal: 5.55s\tremaining: 2.61s\n",
            "34:\tlearn: 0.9357888\ttotal: 5.71s\tremaining: 2.45s\n",
            "35:\tlearn: 0.9357888\ttotal: 5.86s\tremaining: 2.28s\n",
            "36:\tlearn: 0.9362684\ttotal: 6.01s\tremaining: 2.11s\n",
            "37:\tlearn: 0.9362684\ttotal: 6.15s\tremaining: 1.94s\n",
            "38:\tlearn: 0.9353115\ttotal: 6.31s\tremaining: 1.78s\n",
            "39:\tlearn: 0.9338726\ttotal: 6.47s\tremaining: 1.62s\n",
            "40:\tlearn: 0.9367480\ttotal: 6.63s\tremaining: 1.46s\n",
            "41:\tlearn: 0.9372299\ttotal: 6.8s\tremaining: 1.29s\n",
            "42:\tlearn: 0.9381869\ttotal: 6.98s\tremaining: 1.14s\n",
            "43:\tlearn: 0.9391461\ttotal: 7.13s\tremaining: 972ms\n",
            "44:\tlearn: 0.9401053\ttotal: 7.3s\tremaining: 811ms\n",
            "45:\tlearn: 0.9401053\ttotal: 7.47s\tremaining: 650ms\n",
            "46:\tlearn: 0.9410623\ttotal: 7.64s\tremaining: 488ms\n",
            "47:\tlearn: 0.9405827\ttotal: 7.8s\tremaining: 325ms\n",
            "48:\tlearn: 0.9415419\ttotal: 7.99s\tremaining: 163ms\n",
            "49:\tlearn: 0.9415419\ttotal: 8.15s\tremaining: 0us\n"
          ]
        },
        {
          "output_type": "execute_result",
          "data": {
            "text/plain": [
              "<catboost.core.CatBoostClassifier at 0x7f8694c9e310>"
            ]
          },
          "metadata": {},
          "execution_count": 11
        }
      ],
      "source": [
        "#Обучаем \n",
        "pool_train_solution = Pool(X_train, y_train, cat_features = ['team_id', 'game_id'], text_features = ['period_1', 'period_2', 'period_3','period_4'])\n",
        "pool_test_solution = Pool(testnet,cat_features = ['team_id', 'game_id'], text_features = ['period_1', 'period_2', 'period_3','period_4'])\n",
        "\n",
        "model_test_1 = CatBoostClassifier(iterations=50,  task_type='GPU',depth=12, verbose =True, random_seed=24,# learning_rate=0.015,\n",
        "                               leaf_estimation_method= 'Gradient',bootstrap_type= 'Poisson',objective = 'MultiClass',eval_metric = 'Accuracy',loss_function='Recall', class_weights=class_weights)\n",
        "model_test_1.fit(pool_train_solution)"
      ]
    },
    {
      "cell_type": "code",
      "execution_count": null,
      "metadata": {
        "colab": {
          "base_uri": "https://localhost:8080/"
        },
        "id": "4EWmjgeX0yOp",
        "outputId": "8ab313f6-73e7-4a55-ed29-79c4ba2397e4"
      },
      "outputs": [
        {
          "output_type": "stream",
          "name": "stdout",
          "text": [
            "Значение метрики recall на трейне :  0.8016244010942989\n"
          ]
        }
      ],
      "source": [
        "# предварительный тест схождения на всем обучающем множестве, добавление в трейн поля прогноза\n",
        "y_pred = model_test_1.predict(X_train)\n",
        "train['Analytical thinking_prognoz']=y_pred\n",
        "print(\"Значение метрики recall на трейне : \", recall_score(y_train, y_pred , average='macro', zero_division=True))"
      ]
    },
    {
      "cell_type": "code",
      "execution_count": null,
      "metadata": {
        "id": "SiJy7VPI0yOp"
      },
      "outputs": [],
      "source": [
        "#Получение ответов\n",
        "y_pred_solution = model_test_1.predict(pool_test_solution)"
      ]
    },
    {
      "cell_type": "code",
      "execution_count": null,
      "metadata": {
        "colab": {
          "base_uri": "https://localhost:8080/"
        },
        "id": "WjmRSdep0yOq",
        "outputId": "7abb1fe3-4b6d-4557-c511-d241f932cd94"
      },
      "outputs": [
        {
          "output_type": "execute_result",
          "data": {
            "text/plain": [
              "4    417\n",
              "5    209\n",
              "3     36\n",
              "6     14\n",
              "1      4\n",
              "Name: Analytical thinking, dtype: int64"
            ]
          },
          "metadata": {},
          "execution_count": 14
        }
      ],
      "source": [
        "# Сравнение распределения теста и трейна\n",
        "train['Analytical thinking'].value_counts()"
      ]
    },
    {
      "cell_type": "code",
      "execution_count": null,
      "metadata": {
        "colab": {
          "base_uri": "https://localhost:8080/"
        },
        "id": "IAQNe7eO0yOq",
        "outputId": "36b03ef1-5c44-420a-80c1-49814afda425"
      },
      "outputs": [
        {
          "output_type": "execute_result",
          "data": {
            "text/plain": [
              "4    305\n",
              "5    230\n",
              "3    127\n",
              "6     14\n",
              "1      4\n",
              "Name: Analytical thinking_prognoz, dtype: int64"
            ]
          },
          "metadata": {},
          "execution_count": 15
        }
      ],
      "source": [
        "train['Analytical thinking_prognoz'].value_counts()"
      ]
    },
    {
      "cell_type": "code",
      "execution_count": null,
      "metadata": {
        "colab": {
          "base_uri": "https://localhost:8080/"
        },
        "id": "JxBHLtxN0yOr",
        "outputId": "1a58719f-0b75-45f4-9487-47ab8637ba6c"
      },
      "outputs": [
        {
          "output_type": "execute_result",
          "data": {
            "text/plain": [
              "4    132\n",
              "5    112\n",
              "3     46\n",
              "6      3\n",
              "Name: Analytical thinking, dtype: int64"
            ]
          },
          "metadata": {},
          "execution_count": 16
        }
      ],
      "source": [
        "# Заводим результаты в тест и сравниваем\n",
        "test['Analytical thinking']=y_pred_solution\n",
        "test['Analytical thinking'].value_counts()"
      ]
    },
    {
      "cell_type": "code",
      "execution_count": null,
      "metadata": {
        "id": "NwQZc0cw0yOr"
      },
      "outputs": [],
      "source": [
        "# выбираем поле для целевой переменной 2-й оценки\n",
        "y_train=train[['Systemic thinking']]\n",
        "\n",
        "X_train=train[['team_id', 'game_id', 'period_1', 'period_2', 'period_3',\n",
        "       'period_4',  'TestSummAll']]\n",
        "testnet=test[['team_id', 'game_id', 'period_1', 'period_2', 'period_3',\n",
        "       'period_4', 'TestSummAll']]"
      ]
    },
    {
      "cell_type": "code",
      "execution_count": null,
      "metadata": {
        "colab": {
          "base_uri": "https://localhost:8080/"
        },
        "id": "Hxbf-DFU0yOs",
        "outputId": "3a22a375-4586-47a3-ad53-56ad3c48d4c8"
      },
      "outputs": [
        {
          "output_type": "execute_result",
          "data": {
            "text/plain": [
              "{1: 34.0,\n",
              " 3: 2.6666666666666665,\n",
              " 4: 0.2769857433808554,\n",
              " 5: 1.096774193548387,\n",
              " 6: 13.6}"
            ]
          },
          "metadata": {},
          "execution_count": 18
        }
      ],
      "source": [
        "# Определяем веса для классов кластеров\n",
        "classes = np.unique(y_train)\n",
        "weights = compute_class_weight(class_weight='balanced', classes = np.unique(y_train), y = np.ravel(y_train))\n",
        "class_weights = dict(zip(classes, weights))\n",
        "class_weights"
      ]
    },
    {
      "cell_type": "code",
      "execution_count": null,
      "metadata": {
        "colab": {
          "base_uri": "https://localhost:8080/"
        },
        "id": "XOByEbNG0yOs",
        "outputId": "9be6b0e8-1409-40bf-ef7f-ff1e8fefe3ee"
      },
      "outputs": [
        {
          "output_type": "stream",
          "name": "stdout",
          "text": [
            "0:\tlearn: 0.8273674\ttotal: 302ms\tremaining: 11.8s\n",
            "1:\tlearn: 0.8804362\ttotal: 522ms\tremaining: 9.91s\n",
            "2:\tlearn: 0.8813876\ttotal: 692ms\tremaining: 8.54s\n",
            "3:\tlearn: 0.8884147\ttotal: 885ms\tremaining: 7.96s\n",
            "4:\tlearn: 0.9150483\ttotal: 1.1s\tremaining: 7.7s\n",
            "5:\tlearn: 0.9215492\ttotal: 1.27s\tremaining: 7.21s\n",
            "6:\tlearn: 0.9231785\ttotal: 1.47s\tremaining: 6.92s\n",
            "7:\tlearn: 0.9357729\ttotal: 1.68s\tremaining: 6.74s\n",
            "8:\tlearn: 0.9414592\ttotal: 1.88s\tremaining: 6.47s\n",
            "9:\tlearn: 0.9504040\ttotal: 2.05s\tremaining: 6.16s\n",
            "10:\tlearn: 0.9451416\ttotal: 2.2s\tremaining: 5.81s\n",
            "11:\tlearn: 0.9496058\ttotal: 2.38s\tremaining: 5.57s\n",
            "12:\tlearn: 0.9483838\ttotal: 2.56s\tremaining: 5.32s\n",
            "13:\tlearn: 0.9528480\ttotal: 2.75s\tremaining: 5.11s\n",
            "14:\tlearn: 0.9536791\ttotal: 2.93s\tremaining: 4.89s\n",
            "15:\tlearn: 0.9557322\ttotal: 3.14s\tremaining: 4.71s\n",
            "16:\tlearn: 0.9553249\ttotal: 3.32s\tremaining: 4.5s\n",
            "17:\tlearn: 0.9532882\ttotal: 3.5s\tremaining: 4.27s\n",
            "18:\tlearn: 0.9581762\ttotal: 3.68s\tremaining: 4.07s\n",
            "19:\tlearn: 0.9601964\ttotal: 3.86s\tremaining: 3.86s\n",
            "20:\tlearn: 0.9614184\ttotal: 4.03s\tremaining: 3.65s\n",
            "21:\tlearn: 0.9638624\ttotal: 4.23s\tremaining: 3.46s\n",
            "22:\tlearn: 0.9614513\ttotal: 4.39s\tremaining: 3.25s\n",
            "23:\tlearn: 0.9610440\ttotal: 4.56s\tremaining: 3.04s\n",
            "24:\tlearn: 0.9638789\ttotal: 4.75s\tremaining: 2.85s\n",
            "25:\tlearn: 0.9691577\ttotal: 4.94s\tremaining: 2.66s\n",
            "26:\tlearn: 0.9671375\ttotal: 5.16s\tremaining: 2.48s\n",
            "27:\tlearn: 0.9671375\ttotal: 5.33s\tremaining: 2.29s\n",
            "28:\tlearn: 0.9699724\ttotal: 5.53s\tremaining: 2.1s\n",
            "29:\tlearn: 0.9711944\ttotal: 5.71s\tremaining: 1.9s\n",
            "30:\tlearn: 0.9728237\ttotal: 5.91s\tremaining: 1.72s\n",
            "31:\tlearn: 0.9728402\ttotal: 6.08s\tremaining: 1.52s\n",
            "32:\tlearn: 0.9732311\ttotal: 6.26s\tremaining: 1.33s\n",
            "33:\tlearn: 0.9736384\ttotal: 6.42s\tremaining: 1.13s\n",
            "34:\tlearn: 0.9724164\ttotal: 6.58s\tremaining: 941ms\n",
            "35:\tlearn: 0.9728237\ttotal: 6.77s\tremaining: 753ms\n",
            "36:\tlearn: 0.9732311\ttotal: 6.97s\tremaining: 565ms\n",
            "37:\tlearn: 0.9736384\ttotal: 7.15s\tremaining: 376ms\n",
            "38:\tlearn: 0.9736384\ttotal: 7.34s\tremaining: 188ms\n",
            "39:\tlearn: 0.9740457\ttotal: 7.51s\tremaining: 0us\n"
          ]
        },
        {
          "output_type": "execute_result",
          "data": {
            "text/plain": [
              "<catboost.core.CatBoostClassifier at 0x7f869485f690>"
            ]
          },
          "metadata": {},
          "execution_count": 19
        }
      ],
      "source": [
        "#Обучаем \n",
        "\n",
        "pool_train_solution = Pool(X_train, y_train, cat_features = ['team_id', 'game_id'], text_features = ['period_1', 'period_2', 'period_3','period_4', 'TestSummAll'])\n",
        "pool_test_solution = Pool(testnet,cat_features = ['team_id', 'game_id'], text_features = ['period_1', 'period_2', 'period_3','period_4', 'TestSummAll'])\n",
        "\n",
        "model_test_2 = CatBoostClassifier(iterations=40,  task_type='GPU',depth=12, verbose =True, random_seed=24,# learning_rate=0.015,\n",
        "                               leaf_estimation_method= 'Gradient',bootstrap_type= 'Poisson',objective = 'MultiClass',eval_metric = 'Accuracy',loss_function='Recall', class_weights=class_weights)\n",
        "model_test_2.fit(pool_train_solution)"
      ]
    },
    {
      "cell_type": "code",
      "execution_count": null,
      "metadata": {
        "colab": {
          "base_uri": "https://localhost:8080/"
        },
        "id": "GNs0WT9d0yOt",
        "outputId": "244c637f-3be7-45ea-bdd6-b0cd0950e7e5"
      },
      "outputs": [
        {
          "output_type": "stream",
          "name": "stdout",
          "text": [
            "Значение метрики recall на трейне :  0.7903940505313221\n"
          ]
        }
      ],
      "source": [
        "# предварительный тест схождения на всем обучающем множестве, добавление в трейн поля прогноза\n",
        "y_pred = model_test_2.predict(X_train)\n",
        "train['Systemic thinking_prognoz']=y_pred\n",
        "print(\"Значение метрики recall на трейне : \", recall_score(y_train, y_pred , average='macro', zero_division=True))"
      ]
    },
    {
      "cell_type": "code",
      "execution_count": null,
      "metadata": {
        "id": "lAVX9zaM0yOt"
      },
      "outputs": [],
      "source": [
        "#Получение ответов\n",
        "y_pred_solution = model_test_2.predict(pool_test_solution)"
      ]
    },
    {
      "cell_type": "code",
      "execution_count": null,
      "metadata": {
        "colab": {
          "base_uri": "https://localhost:8080/"
        },
        "id": "dfi5RoPe0yOt",
        "outputId": "5903a5e7-f9fa-4210-8a3b-d8903a38ac3e"
      },
      "outputs": [
        {
          "output_type": "execute_result",
          "data": {
            "text/plain": [
              "4    491\n",
              "5    124\n",
              "3     51\n",
              "6     10\n",
              "1      4\n",
              "Name: Systemic thinking, dtype: int64"
            ]
          },
          "metadata": {},
          "execution_count": 22
        }
      ],
      "source": [
        "# Сравнение распределения теста и трейна\n",
        "train['Systemic thinking'].value_counts()"
      ]
    },
    {
      "cell_type": "code",
      "execution_count": null,
      "metadata": {
        "colab": {
          "base_uri": "https://localhost:8080/"
        },
        "id": "7dqetMoi0yOu",
        "outputId": "1686102e-d55a-42ee-e16f-c944846ada09"
      },
      "outputs": [
        {
          "output_type": "execute_result",
          "data": {
            "text/plain": [
              "4    399\n",
              "5    154\n",
              "3     97\n",
              "1     18\n",
              "6     12\n",
              "Name: Systemic thinking_prognoz, dtype: int64"
            ]
          },
          "metadata": {},
          "execution_count": 23
        }
      ],
      "source": [
        "train['Systemic thinking_prognoz'].value_counts()"
      ]
    },
    {
      "cell_type": "code",
      "execution_count": null,
      "metadata": {
        "colab": {
          "base_uri": "https://localhost:8080/"
        },
        "id": "RriIecLz0yOu",
        "outputId": "500e2d6d-64b8-4af1-dbb8-36065c1e151c"
      },
      "outputs": [
        {
          "output_type": "execute_result",
          "data": {
            "text/plain": [
              "4    140\n",
              "5     93\n",
              "3     54\n",
              "1      4\n",
              "6      2\n",
              "Name: Systemic thinking, dtype: int64"
            ]
          },
          "metadata": {},
          "execution_count": 24
        }
      ],
      "source": [
        "# Заводим результаты в тест и сравниваем\n",
        "test['Systemic thinking']=y_pred_solution\n",
        "test['Systemic thinking'].value_counts()"
      ]
    },
    {
      "cell_type": "code",
      "execution_count": null,
      "metadata": {
        "id": "NnpBj_p50yOu"
      },
      "outputs": [],
      "source": [
        "# выбираем поле для целевой переменной 3-й оценки\n",
        "y_train=train[['Adaptability']]\n",
        "\n",
        "X_train=train[['team_id', 'game_id', 'period_1', 'period_2', 'period_3',\n",
        "       'period_4']]\n",
        "testnet=test[['team_id', 'game_id', 'period_1', 'period_2', 'period_3',\n",
        "       'period_4']]"
      ]
    },
    {
      "cell_type": "code",
      "execution_count": null,
      "metadata": {
        "colab": {
          "base_uri": "https://localhost:8080/"
        },
        "id": "6YAUfMDg0yOv",
        "outputId": "195244e2-3153-463b-9dd8-77b6054bc767"
      },
      "outputs": [
        {
          "output_type": "execute_result",
          "data": {
            "text/plain": [
              "{1: 56.666666666666664,\n",
              " 2: 113.33333333333333,\n",
              " 3: 3.1481481481481484,\n",
              " 4: 0.36796536796536794,\n",
              " 5: 0.35639412997903563,\n",
              " 6: 7.555555555555555}"
            ]
          },
          "metadata": {},
          "execution_count": 26
        }
      ],
      "source": [
        "# Определяем веса для классов кластеров\n",
        "classes = np.unique(y_train)\n",
        "weights = compute_class_weight(class_weight='balanced', classes = np.unique(y_train), y = np.ravel(y_train))\n",
        "class_weights = dict(zip(classes, weights))\n",
        "class_weights"
      ]
    },
    {
      "cell_type": "code",
      "execution_count": null,
      "metadata": {
        "colab": {
          "base_uri": "https://localhost:8080/"
        },
        "id": "OVVxDkmi0yOv",
        "outputId": "76a7712e-e52a-46ac-8db7-b6ff264f686e"
      },
      "outputs": [
        {
          "output_type": "stream",
          "name": "stdout",
          "text": [
            "0:\tlearn: 0.8889808\ttotal: 192ms\tremaining: 14.8s\n",
            "1:\tlearn: 0.8568105\ttotal: 372ms\tremaining: 14.1s\n",
            "2:\tlearn: 0.8708911\ttotal: 565ms\tremaining: 14.1s\n",
            "3:\tlearn: 0.8877284\ttotal: 758ms\tremaining: 14s\n",
            "4:\tlearn: 0.8930205\ttotal: 963ms\tremaining: 14.1s\n",
            "5:\tlearn: 0.9036388\ttotal: 1.16s\tremaining: 14s\n",
            "6:\tlearn: 0.9105373\ttotal: 1.34s\tremaining: 13.6s\n",
            "7:\tlearn: 0.9110784\ttotal: 1.51s\tremaining: 13.2s\n",
            "8:\tlearn: 0.9132600\ttotal: 1.69s\tremaining: 13s\n",
            "9:\tlearn: 0.9153394\ttotal: 1.86s\tremaining: 12.7s\n",
            "10:\tlearn: 0.9175549\ttotal: 2.04s\tremaining: 12.5s\n",
            "11:\tlearn: 0.9207336\ttotal: 2.24s\tremaining: 12.3s\n",
            "12:\tlearn: 0.9229322\ttotal: 2.4s\tremaining: 12s\n",
            "13:\tlearn: 0.9186372\ttotal: 2.57s\tremaining: 11.7s\n",
            "14:\tlearn: 0.9239123\ttotal: 2.73s\tremaining: 11.5s\n",
            "15:\tlearn: 0.9281732\ttotal: 2.91s\tremaining: 11.3s\n",
            "16:\tlearn: 0.9244364\ttotal: 3.08s\tremaining: 11.1s\n",
            "17:\tlearn: 0.9254846\ttotal: 3.26s\tremaining: 10.9s\n",
            "18:\tlearn: 0.9276151\ttotal: 3.44s\tremaining: 10.7s\n",
            "19:\tlearn: 0.9302356\ttotal: 3.63s\tremaining: 10.5s\n",
            "20:\tlearn: 0.9302697\ttotal: 3.79s\tremaining: 10.3s\n",
            "21:\tlearn: 0.9297286\ttotal: 3.97s\tremaining: 10.1s\n",
            "22:\tlearn: 0.9297456\ttotal: 4.15s\tremaining: 9.93s\n",
            "23:\tlearn: 0.9308278\ttotal: 4.33s\tremaining: 9.73s\n",
            "24:\tlearn: 0.9297456\ttotal: 4.47s\tremaining: 9.48s\n",
            "25:\tlearn: 0.9275981\ttotal: 4.65s\tremaining: 9.3s\n",
            "26:\tlearn: 0.9281222\ttotal: 4.83s\tremaining: 9.13s\n",
            "27:\tlearn: 0.9281222\ttotal: 5.01s\tremaining: 8.95s\n",
            "28:\tlearn: 0.9291874\ttotal: 5.2s\tremaining: 8.79s\n",
            "29:\tlearn: 0.9313179\ttotal: 5.38s\tremaining: 8.61s\n",
            "30:\tlearn: 0.9313179\ttotal: 5.56s\tremaining: 8.43s\n",
            "31:\tlearn: 0.9329583\ttotal: 5.76s\tremaining: 8.28s\n",
            "32:\tlearn: 0.9356299\ttotal: 5.94s\tremaining: 8.09s\n",
            "33:\tlearn: 0.9356129\ttotal: 6.11s\tremaining: 7.91s\n",
            "34:\tlearn: 0.9334654\ttotal: 6.29s\tremaining: 7.73s\n",
            "35:\tlearn: 0.9350547\ttotal: 6.48s\tremaining: 7.55s\n",
            "36:\tlearn: 0.9334654\ttotal: 6.64s\tremaining: 7.35s\n",
            "37:\tlearn: 0.9345136\ttotal: 6.82s\tremaining: 7.17s\n",
            "38:\tlearn: 0.9355958\ttotal: 7s\tremaining: 7s\n",
            "39:\tlearn: 0.9361029\ttotal: 7.18s\tremaining: 6.82s\n",
            "40:\tlearn: 0.9382164\ttotal: 7.4s\tremaining: 6.68s\n",
            "41:\tlearn: 0.9381994\ttotal: 7.58s\tremaining: 6.5s\n",
            "42:\tlearn: 0.9376753\ttotal: 7.78s\tremaining: 6.33s\n",
            "43:\tlearn: 0.9398398\ttotal: 7.97s\tremaining: 6.16s\n",
            "44:\tlearn: 0.9376923\ttotal: 8.15s\tremaining: 5.97s\n",
            "45:\tlearn: 0.9398057\ttotal: 8.31s\tremaining: 5.78s\n",
            "46:\tlearn: 0.9408710\ttotal: 8.5s\tremaining: 5.61s\n",
            "47:\tlearn: 0.9392646\ttotal: 8.66s\tremaining: 5.42s\n",
            "48:\tlearn: 0.9381994\ttotal: 8.82s\tremaining: 5.22s\n",
            "49:\tlearn: 0.9387235\ttotal: 9.02s\tremaining: 5.05s\n",
            "50:\tlearn: 0.9392646\ttotal: 9.2s\tremaining: 4.87s\n",
            "51:\tlearn: 0.9398057\ttotal: 9.4s\tremaining: 4.7s\n",
            "52:\tlearn: 0.9414121\ttotal: 9.57s\tremaining: 4.51s\n",
            "53:\tlearn: 0.9408540\ttotal: 9.74s\tremaining: 4.33s\n",
            "54:\tlearn: 0.9430014\ttotal: 9.93s\tremaining: 4.15s\n",
            "55:\tlearn: 0.9414121\ttotal: 10.1s\tremaining: 3.97s\n",
            "56:\tlearn: 0.9398057\ttotal: 10.3s\tremaining: 3.78s\n",
            "57:\tlearn: 0.9392986\ttotal: 10.4s\tremaining: 3.6s\n",
            "58:\tlearn: 0.9398228\ttotal: 10.6s\tremaining: 3.42s\n",
            "59:\tlearn: 0.9403809\ttotal: 10.8s\tremaining: 3.24s\n",
            "60:\tlearn: 0.9403809\ttotal: 11s\tremaining: 3.07s\n",
            "61:\tlearn: 0.9414291\ttotal: 11.2s\tremaining: 2.89s\n",
            "62:\tlearn: 0.9419532\ttotal: 11.4s\tremaining: 2.71s\n",
            "63:\tlearn: 0.9414291\ttotal: 11.6s\tremaining: 2.53s\n",
            "64:\tlearn: 0.9424773\ttotal: 11.7s\tremaining: 2.35s\n",
            "65:\tlearn: 0.9430355\ttotal: 11.9s\tremaining: 2.17s\n",
            "66:\tlearn: 0.9430355\ttotal: 12.1s\tremaining: 1.99s\n",
            "67:\tlearn: 0.9419702\ttotal: 12.3s\tremaining: 1.8s\n",
            "68:\tlearn: 0.9419532\ttotal: 12.5s\tremaining: 1.62s\n",
            "69:\tlearn: 0.9424943\ttotal: 12.6s\tremaining: 1.45s\n",
            "70:\tlearn: 0.9435596\ttotal: 12.8s\tremaining: 1.26s\n",
            "71:\tlearn: 0.9424943\ttotal: 13s\tremaining: 1.08s\n",
            "72:\tlearn: 0.9435426\ttotal: 13.2s\tremaining: 904ms\n",
            "73:\tlearn: 0.9435426\ttotal: 13.4s\tremaining: 722ms\n",
            "74:\tlearn: 0.9435426\ttotal: 13.5s\tremaining: 542ms\n",
            "75:\tlearn: 0.9435426\ttotal: 13.7s\tremaining: 361ms\n",
            "76:\tlearn: 0.9430014\ttotal: 13.9s\tremaining: 181ms\n",
            "77:\tlearn: 0.9424773\ttotal: 14.1s\tremaining: 0us\n"
          ]
        },
        {
          "output_type": "execute_result",
          "data": {
            "text/plain": [
              "<catboost.core.CatBoostClassifier at 0x7f868a708590>"
            ]
          },
          "metadata": {},
          "execution_count": 27
        }
      ],
      "source": [
        "#Обучаем \n",
        "pool_train_solution = Pool(X_train, y_train, cat_features = ['team_id', 'game_id'], text_features = ['period_1', 'period_2', 'period_3','period_4'])\n",
        "pool_test_solution = Pool(testnet,cat_features = ['team_id', 'game_id'], text_features = ['period_1', 'period_2', 'period_3','period_4'])\n",
        "\n",
        "model_test_3 = CatBoostClassifier(iterations=78,  task_type='GPU',depth=12, verbose =True, random_seed=24,# learning_rate=0.015,\n",
        "                               leaf_estimation_method= 'Gradient',bootstrap_type= 'Poisson',objective = 'MultiClass',eval_metric = 'Accuracy',loss_function='Recall', class_weights=class_weights)\n",
        "model_test_3.fit(pool_train_solution)"
      ]
    },
    {
      "cell_type": "code",
      "execution_count": null,
      "metadata": {
        "colab": {
          "base_uri": "https://localhost:8080/"
        },
        "id": "ROFsB-Mu0yOv",
        "outputId": "5d7a03d4-4eff-4bcc-98ad-afe360a9b5e4"
      },
      "outputs": [
        {
          "output_type": "stream",
          "name": "stdout",
          "text": [
            "Значение метрики recall на трейне :  0.7857784947407588\n"
          ]
        }
      ],
      "source": [
        "# предварительный тест схождения на всем обучающем множестве, добавление в трейн поля прогноза\n",
        "y_pred = model_test_3.predict(X_train)\n",
        "train['Adaptability_prognoz']=y_pred\n",
        "print(\"Значение метрики recall на трейне : \", recall_score(y_train, y_pred , average='macro', zero_division=True))"
      ]
    },
    {
      "cell_type": "code",
      "execution_count": null,
      "metadata": {
        "id": "behB9dLs0yOw"
      },
      "outputs": [],
      "source": [
        "#Получение ответов\n",
        "y_pred_solution = model_test_3.predict(pool_test_solution)"
      ]
    },
    {
      "cell_type": "code",
      "execution_count": null,
      "metadata": {
        "colab": {
          "base_uri": "https://localhost:8080/"
        },
        "id": "MJ4_KxnD0yOw",
        "outputId": "9307a1c5-d846-4646-d256-d7f3000c3abf"
      },
      "outputs": [
        {
          "output_type": "execute_result",
          "data": {
            "text/plain": [
              "5    318\n",
              "4    308\n",
              "3     36\n",
              "6     15\n",
              "1      2\n",
              "2      1\n",
              "Name: Adaptability, dtype: int64"
            ]
          },
          "metadata": {},
          "execution_count": 30
        }
      ],
      "source": [
        "# Сравнение распределения теста и трейна\n",
        "train['Adaptability'].value_counts()"
      ]
    },
    {
      "cell_type": "code",
      "execution_count": null,
      "metadata": {
        "colab": {
          "base_uri": "https://localhost:8080/"
        },
        "id": "j8cM1JM30yOw",
        "outputId": "c182aea2-6f3f-4d2f-8bb1-e1fde8a48444"
      },
      "outputs": [
        {
          "output_type": "execute_result",
          "data": {
            "text/plain": [
              "5    278\n",
              "4    248\n",
              "3    131\n",
              "6     17\n",
              "1      5\n",
              "2      1\n",
              "Name: Adaptability_prognoz, dtype: int64"
            ]
          },
          "metadata": {},
          "execution_count": 31
        }
      ],
      "source": [
        "train['Adaptability_prognoz'].value_counts()"
      ]
    },
    {
      "cell_type": "code",
      "execution_count": null,
      "metadata": {
        "colab": {
          "base_uri": "https://localhost:8080/"
        },
        "id": "dAcdafQ60yOw",
        "outputId": "1c86a95f-3bff-4552-da81-88b23ecfeb02"
      },
      "outputs": [
        {
          "output_type": "execute_result",
          "data": {
            "text/plain": [
              "5    125\n",
              "4    108\n",
              "3     56\n",
              "6      4\n",
              "Name: Adaptability, dtype: int64"
            ]
          },
          "metadata": {},
          "execution_count": 32
        }
      ],
      "source": [
        "# Заводим результаты в тест и сравниваем\n",
        "test['Adaptability']=y_pred_solution\n",
        "test['Adaptability'].value_counts()"
      ]
    },
    {
      "cell_type": "code",
      "execution_count": null,
      "metadata": {
        "id": "ucgag-eUvEKd"
      },
      "outputs": [],
      "source": [
        "# выбираем поле для целевой переменной 4-й оценки\n",
        "y_train=train[['Focus']]\n",
        "\n",
        "X_train=train[['team_id', 'game_id', 'period_1', 'period_2', 'period_3','Период_1_всего', 'Период_2_всего', 'Период_3_всего','Период_4_всего',\n",
        "       'period_4',  'TestSummAll']]\n",
        "testnet=test[['team_id', 'game_id', 'period_1', 'period_2', 'period_3','Период_1_всего', 'Период_2_всего', 'Период_3_всего','Период_4_всего',\n",
        "       'period_4', 'TestSummAll']]\n"
      ]
    },
    {
      "cell_type": "code",
      "execution_count": null,
      "metadata": {
        "colab": {
          "base_uri": "https://localhost:8080/"
        },
        "id": "_wqJ27mN6N_-",
        "outputId": "03c39316-5947-4a50-c578-524bb0170729"
      },
      "outputs": [
        {
          "output_type": "execute_result",
          "data": {
            "text/plain": [
              "{1: 37.77777777777778,\n",
              " 2: 113.33333333333333,\n",
              " 3: 3.9080459770114944,\n",
              " 4: 0.2833333333333333,\n",
              " 5: 0.4644808743169399,\n",
              " 6: 37.77777777777778}"
            ]
          },
          "metadata": {},
          "execution_count": 34
        }
      ],
      "source": [
        "# Определяем веса для классов кластеров\n",
        "classes = np.unique(y_train)\n",
        "weights = compute_class_weight(class_weight='balanced', classes = np.unique(y_train), y = np.ravel(y_train))\n",
        "class_weights = dict(zip(classes, weights))\n",
        "class_weights"
      ]
    },
    {
      "cell_type": "code",
      "execution_count": null,
      "metadata": {
        "colab": {
          "base_uri": "https://localhost:8080/"
        },
        "id": "lv4FdspxvEKe",
        "outputId": "1cda59eb-0703-4523-a650-edbe7085f208"
      },
      "outputs": [
        {
          "output_type": "stream",
          "name": "stdout",
          "text": [
            "0:\tlearn: 0.8404122\ttotal: 473ms\tremaining: 23.2s\n",
            "1:\tlearn: 0.8588951\ttotal: 780ms\tremaining: 18.7s\n",
            "2:\tlearn: 0.8961859\ttotal: 1.1s\tremaining: 17.2s\n",
            "3:\tlearn: 0.9162637\ttotal: 1.44s\tremaining: 16.6s\n",
            "4:\tlearn: 0.9236612\ttotal: 1.75s\tremaining: 15.7s\n",
            "5:\tlearn: 0.9342760\ttotal: 2.06s\tremaining: 15.1s\n",
            "6:\tlearn: 0.9321926\ttotal: 2.37s\tremaining: 14.5s\n",
            "7:\tlearn: 0.9374590\ttotal: 2.68s\tremaining: 14.1s\n",
            "8:\tlearn: 0.9366598\ttotal: 2.98s\tremaining: 13.6s\n",
            "9:\tlearn: 0.9410929\ttotal: 3.3s\tremaining: 13.2s\n",
            "10:\tlearn: 0.9442418\ttotal: 3.62s\tremaining: 12.8s\n",
            "11:\tlearn: 0.9439754\ttotal: 3.92s\tremaining: 12.4s\n",
            "12:\tlearn: 0.9487090\ttotal: 4.25s\tremaining: 12.1s\n",
            "13:\tlearn: 0.9513251\ttotal: 4.56s\tremaining: 11.7s\n",
            "14:\tlearn: 0.9535246\ttotal: 4.89s\tremaining: 11.4s\n",
            "15:\tlearn: 0.9543579\ttotal: 5.21s\tremaining: 11.1s\n",
            "16:\tlearn: 0.9551913\ttotal: 5.56s\tremaining: 10.8s\n",
            "17:\tlearn: 0.9562910\ttotal: 5.88s\tremaining: 10.5s\n",
            "18:\tlearn: 0.9564413\ttotal: 6.18s\tremaining: 10.1s\n",
            "19:\tlearn: 0.9579577\ttotal: 6.53s\tremaining: 9.8s\n",
            "20:\tlearn: 0.9600410\ttotal: 6.84s\tremaining: 9.45s\n",
            "21:\tlearn: 0.9629235\ttotal: 7.14s\tremaining: 9.09s\n",
            "22:\tlearn: 0.9618238\ttotal: 7.46s\tremaining: 8.76s\n",
            "23:\tlearn: 0.9626571\ttotal: 7.78s\tremaining: 8.42s\n",
            "24:\tlearn: 0.9607240\ttotal: 8.1s\tremaining: 8.1s\n",
            "25:\tlearn: 0.9611407\ttotal: 8.4s\tremaining: 7.75s\n",
            "26:\tlearn: 0.9623907\ttotal: 8.72s\tremaining: 7.43s\n",
            "27:\tlearn: 0.9634904\ttotal: 9.03s\tremaining: 7.09s\n",
            "28:\tlearn: 0.9647063\ttotal: 9.35s\tremaining: 6.77s\n",
            "29:\tlearn: 0.9637568\ttotal: 9.65s\tremaining: 6.43s\n",
            "30:\tlearn: 0.9655396\ttotal: 9.98s\tremaining: 6.12s\n",
            "31:\tlearn: 0.9661066\ttotal: 10.3s\tremaining: 5.8s\n",
            "32:\tlearn: 0.9672063\ttotal: 10.7s\tremaining: 5.5s\n",
            "33:\tlearn: 0.9688730\ttotal: 11s\tremaining: 5.17s\n",
            "34:\tlearn: 0.9688730\ttotal: 11.3s\tremaining: 4.83s\n",
            "35:\tlearn: 0.9708060\ttotal: 11.6s\tremaining: 4.52s\n",
            "36:\tlearn: 0.9708060\ttotal: 11.9s\tremaining: 4.2s\n",
            "37:\tlearn: 0.9712227\ttotal: 12.2s\tremaining: 3.87s\n",
            "38:\tlearn: 0.9716393\ttotal: 12.6s\tremaining: 3.54s\n",
            "39:\tlearn: 0.9727391\ttotal: 12.9s\tremaining: 3.22s\n",
            "40:\tlearn: 0.9750888\ttotal: 13.2s\tremaining: 2.9s\n",
            "41:\tlearn: 0.9755055\ttotal: 13.6s\tremaining: 2.6s\n",
            "42:\tlearn: 0.9770219\ttotal: 14.1s\tremaining: 2.3s\n",
            "43:\tlearn: 0.9774385\ttotal: 14.6s\tremaining: 1.99s\n",
            "44:\tlearn: 0.9786885\ttotal: 15.1s\tremaining: 1.68s\n",
            "45:\tlearn: 0.9795219\ttotal: 15.6s\tremaining: 1.36s\n",
            "46:\tlearn: 0.9793716\ttotal: 16.2s\tremaining: 1.03s\n",
            "47:\tlearn: 0.9797883\ttotal: 16.5s\tremaining: 689ms\n",
            "48:\tlearn: 0.9802049\ttotal: 16.9s\tremaining: 344ms\n",
            "49:\tlearn: 0.9806216\ttotal: 17.2s\tremaining: 0us\n"
          ]
        },
        {
          "output_type": "execute_result",
          "data": {
            "text/plain": [
              "<catboost.core.CatBoostClassifier at 0x7f869484d550>"
            ]
          },
          "metadata": {},
          "execution_count": 35
        }
      ],
      "source": [
        "#Обучаем \n",
        "\n",
        "\n",
        "pool_train_solution = Pool(X_train, y_train, cat_features = ['team_id', 'game_id'], text_features = ['period_1', 'period_2', 'period_3','period_4', 'TestSummAll'])\n",
        "pool_test_solution = Pool(testnet,cat_features = ['team_id', 'game_id'], text_features = ['period_1', 'period_2', 'period_3','period_4', 'TestSummAll'])\n",
        "\n",
        "model_test_4 = CatBoostClassifier(iterations=50,  task_type='GPU',depth=12, verbose =True, random_seed=24,# learning_rate=0.015,\n",
        "                               leaf_estimation_method= 'Gradient',bootstrap_type= 'Poisson',objective = 'MultiClass',eval_metric = 'Accuracy',loss_function='Recall', class_weights=class_weights)\n",
        "model_test_4.fit(pool_train_solution)"
      ]
    },
    {
      "cell_type": "code",
      "execution_count": null,
      "metadata": {
        "colab": {
          "base_uri": "https://localhost:8080/"
        },
        "id": "I0h_IsexvEKe",
        "outputId": "aa34c098-b515-4933-c024-174fa23bcef6"
      },
      "outputs": [
        {
          "output_type": "stream",
          "name": "stdout",
          "text": [
            "Значение метрики recall на трейне :  0.8161056937378305\n"
          ]
        }
      ],
      "source": [
        "# предварительный тест схождения на всем обучающем множестве, добавление в трейн поля прогноза\n",
        "y_pred = model_test_4.predict(X_train)\n",
        "train['Focus_prognoz']=y_pred\n",
        "print(\"Значение метрики recall на трейне : \", recall_score(y_train, y_pred , average='macro', zero_division=True))"
      ]
    },
    {
      "cell_type": "code",
      "execution_count": null,
      "metadata": {
        "id": "FnVOpIhpvEKf"
      },
      "outputs": [],
      "source": [
        "#Получение ответов\n",
        "y_pred_solution = model_test_4.predict(pool_test_solution)"
      ]
    },
    {
      "cell_type": "code",
      "execution_count": null,
      "metadata": {
        "colab": {
          "base_uri": "https://localhost:8080/"
        },
        "id": "-rEH_O0dA5OL",
        "outputId": "bf140edf-aec2-43f4-c457-029a133316c2"
      },
      "outputs": [
        {
          "output_type": "execute_result",
          "data": {
            "text/plain": [
              "4    400\n",
              "5    244\n",
              "3     29\n",
              "6      3\n",
              "1      3\n",
              "2      1\n",
              "Name: Focus, dtype: int64"
            ]
          },
          "metadata": {},
          "execution_count": 38
        }
      ],
      "source": [
        "train['Focus'].value_counts()"
      ]
    },
    {
      "cell_type": "code",
      "execution_count": null,
      "metadata": {
        "colab": {
          "base_uri": "https://localhost:8080/"
        },
        "id": "RYTrdhHg0yOz",
        "outputId": "1798a055-3551-4fad-8a99-145b25c1d9e6"
      },
      "outputs": [
        {
          "output_type": "execute_result",
          "data": {
            "text/plain": [
              "4    390\n",
              "5    247\n",
              "3     37\n",
              "6      3\n",
              "1      2\n",
              "2      1\n",
              "Name: Focus_prognoz, dtype: int64"
            ]
          },
          "metadata": {},
          "execution_count": 39
        }
      ],
      "source": [
        "# Сравнение распределения теста и трейна\n",
        "train['Focus_prognoz'].value_counts()"
      ]
    },
    {
      "cell_type": "code",
      "execution_count": null,
      "metadata": {
        "colab": {
          "base_uri": "https://localhost:8080/"
        },
        "id": "gM17TtOZvEKf",
        "outputId": "07d09cc3-3049-4aaf-e1e1-b5f1544a0b09"
      },
      "outputs": [
        {
          "output_type": "execute_result",
          "data": {
            "text/plain": [
              "4    178\n",
              "5    102\n",
              "3     13\n",
              "Name: Focus, dtype: int64"
            ]
          },
          "metadata": {},
          "execution_count": 40
        }
      ],
      "source": [
        "# Заводим результаты в тест\n",
        "test['Focus']=y_pred_solution\n",
        "test['Focus'].value_counts()"
      ]
    },
    {
      "cell_type": "code",
      "execution_count": null,
      "metadata": {
        "colab": {
          "base_uri": "https://localhost:8080/",
          "height": 423
        },
        "id": "qyQUHon2vEKg",
        "outputId": "ff2d107f-4a60-40a7-81f7-044769a20915"
      },
      "outputs": [
        {
          "output_type": "execute_result",
          "data": {
            "text/plain": [
              "        id  Analytical thinking  Systemic thinking  Adaptability  Focus\n",
              "0    10199                    4                  4             4      4\n",
              "1    10539                    4                  4             5      5\n",
              "2    10174                    5                  5             4      4\n",
              "3    10465                    4                  5             5      5\n",
              "4    10066                    5                  4             4      4\n",
              "..     ...                  ...                ...           ...    ...\n",
              "288  10433                    4                  5             4      4\n",
              "289  10893                    5                  5             5      5\n",
              "290  10909                    3                  4             3      4\n",
              "291  10889                    3                  3             3      4\n",
              "292  10613                    4                  4             4      4\n",
              "\n",
              "[293 rows x 5 columns]"
            ],
            "text/html": [
              "\n",
              "  <div id=\"df-2d9e9381-eb6f-4205-bc8f-88811d1509f2\">\n",
              "    <div class=\"colab-df-container\">\n",
              "      <div>\n",
              "<style scoped>\n",
              "    .dataframe tbody tr th:only-of-type {\n",
              "        vertical-align: middle;\n",
              "    }\n",
              "\n",
              "    .dataframe tbody tr th {\n",
              "        vertical-align: top;\n",
              "    }\n",
              "\n",
              "    .dataframe thead th {\n",
              "        text-align: right;\n",
              "    }\n",
              "</style>\n",
              "<table border=\"1\" class=\"dataframe\">\n",
              "  <thead>\n",
              "    <tr style=\"text-align: right;\">\n",
              "      <th></th>\n",
              "      <th>id</th>\n",
              "      <th>Analytical thinking</th>\n",
              "      <th>Systemic thinking</th>\n",
              "      <th>Adaptability</th>\n",
              "      <th>Focus</th>\n",
              "    </tr>\n",
              "  </thead>\n",
              "  <tbody>\n",
              "    <tr>\n",
              "      <th>0</th>\n",
              "      <td>10199</td>\n",
              "      <td>4</td>\n",
              "      <td>4</td>\n",
              "      <td>4</td>\n",
              "      <td>4</td>\n",
              "    </tr>\n",
              "    <tr>\n",
              "      <th>1</th>\n",
              "      <td>10539</td>\n",
              "      <td>4</td>\n",
              "      <td>4</td>\n",
              "      <td>5</td>\n",
              "      <td>5</td>\n",
              "    </tr>\n",
              "    <tr>\n",
              "      <th>2</th>\n",
              "      <td>10174</td>\n",
              "      <td>5</td>\n",
              "      <td>5</td>\n",
              "      <td>4</td>\n",
              "      <td>4</td>\n",
              "    </tr>\n",
              "    <tr>\n",
              "      <th>3</th>\n",
              "      <td>10465</td>\n",
              "      <td>4</td>\n",
              "      <td>5</td>\n",
              "      <td>5</td>\n",
              "      <td>5</td>\n",
              "    </tr>\n",
              "    <tr>\n",
              "      <th>4</th>\n",
              "      <td>10066</td>\n",
              "      <td>5</td>\n",
              "      <td>4</td>\n",
              "      <td>4</td>\n",
              "      <td>4</td>\n",
              "    </tr>\n",
              "    <tr>\n",
              "      <th>...</th>\n",
              "      <td>...</td>\n",
              "      <td>...</td>\n",
              "      <td>...</td>\n",
              "      <td>...</td>\n",
              "      <td>...</td>\n",
              "    </tr>\n",
              "    <tr>\n",
              "      <th>288</th>\n",
              "      <td>10433</td>\n",
              "      <td>4</td>\n",
              "      <td>5</td>\n",
              "      <td>4</td>\n",
              "      <td>4</td>\n",
              "    </tr>\n",
              "    <tr>\n",
              "      <th>289</th>\n",
              "      <td>10893</td>\n",
              "      <td>5</td>\n",
              "      <td>5</td>\n",
              "      <td>5</td>\n",
              "      <td>5</td>\n",
              "    </tr>\n",
              "    <tr>\n",
              "      <th>290</th>\n",
              "      <td>10909</td>\n",
              "      <td>3</td>\n",
              "      <td>4</td>\n",
              "      <td>3</td>\n",
              "      <td>4</td>\n",
              "    </tr>\n",
              "    <tr>\n",
              "      <th>291</th>\n",
              "      <td>10889</td>\n",
              "      <td>3</td>\n",
              "      <td>3</td>\n",
              "      <td>3</td>\n",
              "      <td>4</td>\n",
              "    </tr>\n",
              "    <tr>\n",
              "      <th>292</th>\n",
              "      <td>10613</td>\n",
              "      <td>4</td>\n",
              "      <td>4</td>\n",
              "      <td>4</td>\n",
              "      <td>4</td>\n",
              "    </tr>\n",
              "  </tbody>\n",
              "</table>\n",
              "<p>293 rows × 5 columns</p>\n",
              "</div>\n",
              "      <button class=\"colab-df-convert\" onclick=\"convertToInteractive('df-2d9e9381-eb6f-4205-bc8f-88811d1509f2')\"\n",
              "              title=\"Convert this dataframe to an interactive table.\"\n",
              "              style=\"display:none;\">\n",
              "        \n",
              "  <svg xmlns=\"http://www.w3.org/2000/svg\" height=\"24px\"viewBox=\"0 0 24 24\"\n",
              "       width=\"24px\">\n",
              "    <path d=\"M0 0h24v24H0V0z\" fill=\"none\"/>\n",
              "    <path d=\"M18.56 5.44l.94 2.06.94-2.06 2.06-.94-2.06-.94-.94-2.06-.94 2.06-2.06.94zm-11 1L8.5 8.5l.94-2.06 2.06-.94-2.06-.94L8.5 2.5l-.94 2.06-2.06.94zm10 10l.94 2.06.94-2.06 2.06-.94-2.06-.94-.94-2.06-.94 2.06-2.06.94z\"/><path d=\"M17.41 7.96l-1.37-1.37c-.4-.4-.92-.59-1.43-.59-.52 0-1.04.2-1.43.59L10.3 9.45l-7.72 7.72c-.78.78-.78 2.05 0 2.83L4 21.41c.39.39.9.59 1.41.59.51 0 1.02-.2 1.41-.59l7.78-7.78 2.81-2.81c.8-.78.8-2.07 0-2.86zM5.41 20L4 18.59l7.72-7.72 1.47 1.35L5.41 20z\"/>\n",
              "  </svg>\n",
              "      </button>\n",
              "      \n",
              "  <style>\n",
              "    .colab-df-container {\n",
              "      display:flex;\n",
              "      flex-wrap:wrap;\n",
              "      gap: 12px;\n",
              "    }\n",
              "\n",
              "    .colab-df-convert {\n",
              "      background-color: #E8F0FE;\n",
              "      border: none;\n",
              "      border-radius: 50%;\n",
              "      cursor: pointer;\n",
              "      display: none;\n",
              "      fill: #1967D2;\n",
              "      height: 32px;\n",
              "      padding: 0 0 0 0;\n",
              "      width: 32px;\n",
              "    }\n",
              "\n",
              "    .colab-df-convert:hover {\n",
              "      background-color: #E2EBFA;\n",
              "      box-shadow: 0px 1px 2px rgba(60, 64, 67, 0.3), 0px 1px 3px 1px rgba(60, 64, 67, 0.15);\n",
              "      fill: #174EA6;\n",
              "    }\n",
              "\n",
              "    [theme=dark] .colab-df-convert {\n",
              "      background-color: #3B4455;\n",
              "      fill: #D2E3FC;\n",
              "    }\n",
              "\n",
              "    [theme=dark] .colab-df-convert:hover {\n",
              "      background-color: #434B5C;\n",
              "      box-shadow: 0px 1px 3px 1px rgba(0, 0, 0, 0.15);\n",
              "      filter: drop-shadow(0px 1px 2px rgba(0, 0, 0, 0.3));\n",
              "      fill: #FFFFFF;\n",
              "    }\n",
              "  </style>\n",
              "\n",
              "      <script>\n",
              "        const buttonEl =\n",
              "          document.querySelector('#df-2d9e9381-eb6f-4205-bc8f-88811d1509f2 button.colab-df-convert');\n",
              "        buttonEl.style.display =\n",
              "          google.colab.kernel.accessAllowed ? 'block' : 'none';\n",
              "\n",
              "        async function convertToInteractive(key) {\n",
              "          const element = document.querySelector('#df-2d9e9381-eb6f-4205-bc8f-88811d1509f2');\n",
              "          const dataTable =\n",
              "            await google.colab.kernel.invokeFunction('convertToInteractive',\n",
              "                                                     [key], {});\n",
              "          if (!dataTable) return;\n",
              "\n",
              "          const docLinkHtml = 'Like what you see? Visit the ' +\n",
              "            '<a target=\"_blank\" href=https://colab.research.google.com/notebooks/data_table.ipynb>data table notebook</a>'\n",
              "            + ' to learn more about interactive tables.';\n",
              "          element.innerHTML = '';\n",
              "          dataTable['output_type'] = 'display_data';\n",
              "          await google.colab.output.renderOutput(dataTable, element);\n",
              "          const docLink = document.createElement('div');\n",
              "          docLink.innerHTML = docLinkHtml;\n",
              "          element.appendChild(docLink);\n",
              "        }\n",
              "      </script>\n",
              "    </div>\n",
              "  </div>\n",
              "  "
            ]
          },
          "metadata": {},
          "execution_count": 41
        }
      ],
      "source": [
        "test_itog=test[['id','Analytical thinking', 'Systemic thinking', 'Adaptability', 'Focus']]\n",
        "test_itog"
      ]
    },
    {
      "cell_type": "code",
      "execution_count": null,
      "metadata": {
        "id": "Cg-tRZibvEKj"
      },
      "outputs": [],
      "source": [
        "test_itog.to_csv('прогноз общий предварительный diff out chislo.csv', sep=',', index=None)"
      ]
    },
    {
      "cell_type": "code",
      "execution_count": null,
      "metadata": {
        "colab": {
          "base_uri": "https://localhost:8080/",
          "height": 1000
        },
        "id": "-mtg_Gbi0yO0",
        "outputId": "5ad6bb1b-ecda-4152-c595-83f38dc3bedb"
      },
      "outputs": [
        {
          "output_type": "execute_result",
          "data": {
            "text/plain": [
              "        id  Analytical thinking  Systemic thinking  Adaptability  Focus  \\\n",
              "0    10884                    4                  4             4      4   \n",
              "1    10106                    5                  4             5      5   \n",
              "2    10438                    6                  5             5      5   \n",
              "3    10130                    5                  4             5      5   \n",
              "4    10667                    4                  5             5      5   \n",
              "..     ...                  ...                ...           ...    ...   \n",
              "675  10563                    5                  4             5      4   \n",
              "676  10386                    5                  4             5      5   \n",
              "677  10675                    5                  4             5      4   \n",
              "678  10366                    4                  4             4      4   \n",
              "679  10340                    4                  4             4      4   \n",
              "\n",
              "     team_id  game_id                                           period_1  \\\n",
              "0       1440      202  Cancellation of bonus for violation of labor d...   \n",
              "1       1536      211  Development of productionвЂ™s optimisation, Bo...   \n",
              "2       1742      242  Manufacturing staff qualification, To place pa...   \n",
              "3       1272      184  Fabrication staff salaty, Analysis of the impo...   \n",
              "4       1382      193  Pick of contractors and providers, Engineers q...   \n",
              "..       ...      ...                                                ...   \n",
              "675     1274      184  Quality of the purchased materials Raw (carbon...   \n",
              "676     1526      210               Medium strategy of staff recruitment   \n",
              "677     1670      235  Optimisation of the loading unitвЂ™s shape, Th...   \n",
              "678     1808      248  Improvement of the documentation of entrance c...   \n",
              "679     1570      215                                       Not decision   \n",
              "\n",
              "                                              period_2  \\\n",
              "0    Contextual advertising, Advertising in print m...   \n",
              "1    Repeat inspection of batch products, Developme...   \n",
              "2    Minimal fixed + % by the results of a period (...   \n",
              "3    Health, Analysis of the market structure for t...   \n",
              "4    Media-advertising, The best physical propertie...   \n",
              "..                                                 ...   \n",
              "675                            Quantity of work shifts   \n",
              "676  Bonuses for innovation and rationalization of ...   \n",
              "677  Size of a reserve stock of MR, Size of a reser...   \n",
              "678  Sending staff on short-term courses of creativ...   \n",
              "679                                       Not decision   \n",
              "\n",
              "                                              period_3  \\\n",
              "0    Managers qualification, Anti-bureaucratic days...   \n",
              "1    Optimizing the placement of equipment, Increas...   \n",
              "2    Quality of the purchased materials Raw (carbon...   \n",
              "3    Education of the dealersвЂ™ sales staff, Quant...   \n",
              "4    Conduct customer analysis on the market, Firef...   \n",
              "..                                                 ...   \n",
              "675  Development of productionвЂ™s optimisation, De...   \n",
              "676  Cancellation of bonus for violation of labor d...   \n",
              "677  Size of a reserve stock of MR, The volume of o...   \n",
              "678  Conducting regular medical examinations and br...   \n",
              "679              Video surveillance systemвЂ™s upgrade   \n",
              "\n",
              "                                              period_4  Период_1_всего  \\\n",
              "0    Size of a reserve stock of WIP, The best aesth...               7   \n",
              "1    R&D enhancement of aesthetic and ergonomic qua...              21   \n",
              "2    Factoring, Quality of the purchased materials ...              62   \n",
              "3    Search and selection of dealers, Contracts of ...              24   \n",
              "4    Bicycles Production line 20000 units, Cumulati...              54   \n",
              "..                                                 ...             ...   \n",
              "675  Size of a reserve stock of FP, Employment of o...              10   \n",
              "676              Sending Engineers on training courses               1   \n",
              "677  The volume of of transportation - Large compan...               4   \n",
              "678  Dividend payout in cash, Transfer the rights t...              10   \n",
              "679  Improvement of the technology of entrance cont...               0   \n",
              "\n",
              "     Период_2_всего  Период_3_всего  Период_4_всего  \\\n",
              "0                14              28               9   \n",
              "1                21              12               8   \n",
              "2                42              58              30   \n",
              "3                24              33              63   \n",
              "4                49             152              19   \n",
              "..              ...             ...             ...   \n",
              "675               1              11               4   \n",
              "676              14              24               1   \n",
              "677              14              20               9   \n",
              "678              44              45              38   \n",
              "679               0               1               2   \n",
              "\n",
              "                                           TestSummAll  \\\n",
              "0    Cancellation of bonus for violation of labor d...   \n",
              "1    Development of productionвЂ™s optimisation, Bo...   \n",
              "2    Manufacturing staff qualification, To place pa...   \n",
              "3    Fabrication staff salaty, Analysis of the impo...   \n",
              "4    Pick of contractors and providers, Engineers q...   \n",
              "..                                                 ...   \n",
              "675  Quality of the purchased materials Raw (carbon...   \n",
              "676  Medium strategy of staff recruitment Bonuses f...   \n",
              "677  Optimisation of the loading unitвЂ™s shape, Th...   \n",
              "678  Improvement of the documentation of entrance c...   \n",
              "679  Not decision Not decision Video surveillance s...   \n",
              "\n",
              "     Analytical thinking_prognoz  Systemic thinking_prognoz  \\\n",
              "0                              4                          3   \n",
              "1                              3                          5   \n",
              "2                              5                          5   \n",
              "3                              5                          4   \n",
              "4                              5                          5   \n",
              "..                           ...                        ...   \n",
              "675                            4                          4   \n",
              "676                            5                          4   \n",
              "677                            4                          4   \n",
              "678                            5                          4   \n",
              "679                            4                          3   \n",
              "\n",
              "     Adaptability_prognoz  Focus_prognoz  \n",
              "0                       4              4  \n",
              "1                       4              5  \n",
              "2                       5              5  \n",
              "3                       5              5  \n",
              "4                       5              5  \n",
              "..                    ...            ...  \n",
              "675                     5              4  \n",
              "676                     5              5  \n",
              "677                     4              4  \n",
              "678                     1              4  \n",
              "679                     3              4  \n",
              "\n",
              "[680 rows x 20 columns]"
            ],
            "text/html": [
              "\n",
              "  <div id=\"df-db16fe08-112a-4610-8537-cac0902233ee\">\n",
              "    <div class=\"colab-df-container\">\n",
              "      <div>\n",
              "<style scoped>\n",
              "    .dataframe tbody tr th:only-of-type {\n",
              "        vertical-align: middle;\n",
              "    }\n",
              "\n",
              "    .dataframe tbody tr th {\n",
              "        vertical-align: top;\n",
              "    }\n",
              "\n",
              "    .dataframe thead th {\n",
              "        text-align: right;\n",
              "    }\n",
              "</style>\n",
              "<table border=\"1\" class=\"dataframe\">\n",
              "  <thead>\n",
              "    <tr style=\"text-align: right;\">\n",
              "      <th></th>\n",
              "      <th>id</th>\n",
              "      <th>Analytical thinking</th>\n",
              "      <th>Systemic thinking</th>\n",
              "      <th>Adaptability</th>\n",
              "      <th>Focus</th>\n",
              "      <th>team_id</th>\n",
              "      <th>game_id</th>\n",
              "      <th>period_1</th>\n",
              "      <th>period_2</th>\n",
              "      <th>period_3</th>\n",
              "      <th>period_4</th>\n",
              "      <th>Период_1_всего</th>\n",
              "      <th>Период_2_всего</th>\n",
              "      <th>Период_3_всего</th>\n",
              "      <th>Период_4_всего</th>\n",
              "      <th>TestSummAll</th>\n",
              "      <th>Analytical thinking_prognoz</th>\n",
              "      <th>Systemic thinking_prognoz</th>\n",
              "      <th>Adaptability_prognoz</th>\n",
              "      <th>Focus_prognoz</th>\n",
              "    </tr>\n",
              "  </thead>\n",
              "  <tbody>\n",
              "    <tr>\n",
              "      <th>0</th>\n",
              "      <td>10884</td>\n",
              "      <td>4</td>\n",
              "      <td>4</td>\n",
              "      <td>4</td>\n",
              "      <td>4</td>\n",
              "      <td>1440</td>\n",
              "      <td>202</td>\n",
              "      <td>Cancellation of bonus for violation of labor d...</td>\n",
              "      <td>Contextual advertising, Advertising in print m...</td>\n",
              "      <td>Managers qualification, Anti-bureaucratic days...</td>\n",
              "      <td>Size of a reserve stock of WIP, The best aesth...</td>\n",
              "      <td>7</td>\n",
              "      <td>14</td>\n",
              "      <td>28</td>\n",
              "      <td>9</td>\n",
              "      <td>Cancellation of bonus for violation of labor d...</td>\n",
              "      <td>4</td>\n",
              "      <td>3</td>\n",
              "      <td>4</td>\n",
              "      <td>4</td>\n",
              "    </tr>\n",
              "    <tr>\n",
              "      <th>1</th>\n",
              "      <td>10106</td>\n",
              "      <td>5</td>\n",
              "      <td>4</td>\n",
              "      <td>5</td>\n",
              "      <td>5</td>\n",
              "      <td>1536</td>\n",
              "      <td>211</td>\n",
              "      <td>Development of productionвЂ™s optimisation, Bo...</td>\n",
              "      <td>Repeat inspection of batch products, Developme...</td>\n",
              "      <td>Optimizing the placement of equipment, Increas...</td>\n",
              "      <td>R&amp;D enhancement of aesthetic and ergonomic qua...</td>\n",
              "      <td>21</td>\n",
              "      <td>21</td>\n",
              "      <td>12</td>\n",
              "      <td>8</td>\n",
              "      <td>Development of productionвЂ™s optimisation, Bo...</td>\n",
              "      <td>3</td>\n",
              "      <td>5</td>\n",
              "      <td>4</td>\n",
              "      <td>5</td>\n",
              "    </tr>\n",
              "    <tr>\n",
              "      <th>2</th>\n",
              "      <td>10438</td>\n",
              "      <td>6</td>\n",
              "      <td>5</td>\n",
              "      <td>5</td>\n",
              "      <td>5</td>\n",
              "      <td>1742</td>\n",
              "      <td>242</td>\n",
              "      <td>Manufacturing staff qualification, To place pa...</td>\n",
              "      <td>Minimal fixed + % by the results of a period (...</td>\n",
              "      <td>Quality of the purchased materials Raw (carbon...</td>\n",
              "      <td>Factoring, Quality of the purchased materials ...</td>\n",
              "      <td>62</td>\n",
              "      <td>42</td>\n",
              "      <td>58</td>\n",
              "      <td>30</td>\n",
              "      <td>Manufacturing staff qualification, To place pa...</td>\n",
              "      <td>5</td>\n",
              "      <td>5</td>\n",
              "      <td>5</td>\n",
              "      <td>5</td>\n",
              "    </tr>\n",
              "    <tr>\n",
              "      <th>3</th>\n",
              "      <td>10130</td>\n",
              "      <td>5</td>\n",
              "      <td>4</td>\n",
              "      <td>5</td>\n",
              "      <td>5</td>\n",
              "      <td>1272</td>\n",
              "      <td>184</td>\n",
              "      <td>Fabrication staff salaty, Analysis of the impo...</td>\n",
              "      <td>Health, Analysis of the market structure for t...</td>\n",
              "      <td>Education of the dealersвЂ™ sales staff, Quant...</td>\n",
              "      <td>Search and selection of dealers, Contracts of ...</td>\n",
              "      <td>24</td>\n",
              "      <td>24</td>\n",
              "      <td>33</td>\n",
              "      <td>63</td>\n",
              "      <td>Fabrication staff salaty, Analysis of the impo...</td>\n",
              "      <td>5</td>\n",
              "      <td>4</td>\n",
              "      <td>5</td>\n",
              "      <td>5</td>\n",
              "    </tr>\n",
              "    <tr>\n",
              "      <th>4</th>\n",
              "      <td>10667</td>\n",
              "      <td>4</td>\n",
              "      <td>5</td>\n",
              "      <td>5</td>\n",
              "      <td>5</td>\n",
              "      <td>1382</td>\n",
              "      <td>193</td>\n",
              "      <td>Pick of contractors and providers, Engineers q...</td>\n",
              "      <td>Media-advertising, The best physical propertie...</td>\n",
              "      <td>Conduct customer analysis on the market, Firef...</td>\n",
              "      <td>Bicycles Production line 20000 units, Cumulati...</td>\n",
              "      <td>54</td>\n",
              "      <td>49</td>\n",
              "      <td>152</td>\n",
              "      <td>19</td>\n",
              "      <td>Pick of contractors and providers, Engineers q...</td>\n",
              "      <td>5</td>\n",
              "      <td>5</td>\n",
              "      <td>5</td>\n",
              "      <td>5</td>\n",
              "    </tr>\n",
              "    <tr>\n",
              "      <th>...</th>\n",
              "      <td>...</td>\n",
              "      <td>...</td>\n",
              "      <td>...</td>\n",
              "      <td>...</td>\n",
              "      <td>...</td>\n",
              "      <td>...</td>\n",
              "      <td>...</td>\n",
              "      <td>...</td>\n",
              "      <td>...</td>\n",
              "      <td>...</td>\n",
              "      <td>...</td>\n",
              "      <td>...</td>\n",
              "      <td>...</td>\n",
              "      <td>...</td>\n",
              "      <td>...</td>\n",
              "      <td>...</td>\n",
              "      <td>...</td>\n",
              "      <td>...</td>\n",
              "      <td>...</td>\n",
              "      <td>...</td>\n",
              "    </tr>\n",
              "    <tr>\n",
              "      <th>675</th>\n",
              "      <td>10563</td>\n",
              "      <td>5</td>\n",
              "      <td>4</td>\n",
              "      <td>5</td>\n",
              "      <td>4</td>\n",
              "      <td>1274</td>\n",
              "      <td>184</td>\n",
              "      <td>Quality of the purchased materials Raw (carbon...</td>\n",
              "      <td>Quantity of work shifts</td>\n",
              "      <td>Development of productionвЂ™s optimisation, De...</td>\n",
              "      <td>Size of a reserve stock of FP, Employment of o...</td>\n",
              "      <td>10</td>\n",
              "      <td>1</td>\n",
              "      <td>11</td>\n",
              "      <td>4</td>\n",
              "      <td>Quality of the purchased materials Raw (carbon...</td>\n",
              "      <td>4</td>\n",
              "      <td>4</td>\n",
              "      <td>5</td>\n",
              "      <td>4</td>\n",
              "    </tr>\n",
              "    <tr>\n",
              "      <th>676</th>\n",
              "      <td>10386</td>\n",
              "      <td>5</td>\n",
              "      <td>4</td>\n",
              "      <td>5</td>\n",
              "      <td>5</td>\n",
              "      <td>1526</td>\n",
              "      <td>210</td>\n",
              "      <td>Medium strategy of staff recruitment</td>\n",
              "      <td>Bonuses for innovation and rationalization of ...</td>\n",
              "      <td>Cancellation of bonus for violation of labor d...</td>\n",
              "      <td>Sending Engineers on training courses</td>\n",
              "      <td>1</td>\n",
              "      <td>14</td>\n",
              "      <td>24</td>\n",
              "      <td>1</td>\n",
              "      <td>Medium strategy of staff recruitment Bonuses f...</td>\n",
              "      <td>5</td>\n",
              "      <td>4</td>\n",
              "      <td>5</td>\n",
              "      <td>5</td>\n",
              "    </tr>\n",
              "    <tr>\n",
              "      <th>677</th>\n",
              "      <td>10675</td>\n",
              "      <td>5</td>\n",
              "      <td>4</td>\n",
              "      <td>5</td>\n",
              "      <td>4</td>\n",
              "      <td>1670</td>\n",
              "      <td>235</td>\n",
              "      <td>Optimisation of the loading unitвЂ™s shape, Th...</td>\n",
              "      <td>Size of a reserve stock of MR, Size of a reser...</td>\n",
              "      <td>Size of a reserve stock of MR, The volume of o...</td>\n",
              "      <td>The volume of of transportation - Large compan...</td>\n",
              "      <td>4</td>\n",
              "      <td>14</td>\n",
              "      <td>20</td>\n",
              "      <td>9</td>\n",
              "      <td>Optimisation of the loading unitвЂ™s shape, Th...</td>\n",
              "      <td>4</td>\n",
              "      <td>4</td>\n",
              "      <td>4</td>\n",
              "      <td>4</td>\n",
              "    </tr>\n",
              "    <tr>\n",
              "      <th>678</th>\n",
              "      <td>10366</td>\n",
              "      <td>4</td>\n",
              "      <td>4</td>\n",
              "      <td>4</td>\n",
              "      <td>4</td>\n",
              "      <td>1808</td>\n",
              "      <td>248</td>\n",
              "      <td>Improvement of the documentation of entrance c...</td>\n",
              "      <td>Sending staff on short-term courses of creativ...</td>\n",
              "      <td>Conducting regular medical examinations and br...</td>\n",
              "      <td>Dividend payout in cash, Transfer the rights t...</td>\n",
              "      <td>10</td>\n",
              "      <td>44</td>\n",
              "      <td>45</td>\n",
              "      <td>38</td>\n",
              "      <td>Improvement of the documentation of entrance c...</td>\n",
              "      <td>5</td>\n",
              "      <td>4</td>\n",
              "      <td>1</td>\n",
              "      <td>4</td>\n",
              "    </tr>\n",
              "    <tr>\n",
              "      <th>679</th>\n",
              "      <td>10340</td>\n",
              "      <td>4</td>\n",
              "      <td>4</td>\n",
              "      <td>4</td>\n",
              "      <td>4</td>\n",
              "      <td>1570</td>\n",
              "      <td>215</td>\n",
              "      <td>Not decision</td>\n",
              "      <td>Not decision</td>\n",
              "      <td>Video surveillance systemвЂ™s upgrade</td>\n",
              "      <td>Improvement of the technology of entrance cont...</td>\n",
              "      <td>0</td>\n",
              "      <td>0</td>\n",
              "      <td>1</td>\n",
              "      <td>2</td>\n",
              "      <td>Not decision Not decision Video surveillance s...</td>\n",
              "      <td>4</td>\n",
              "      <td>3</td>\n",
              "      <td>3</td>\n",
              "      <td>4</td>\n",
              "    </tr>\n",
              "  </tbody>\n",
              "</table>\n",
              "<p>680 rows × 20 columns</p>\n",
              "</div>\n",
              "      <button class=\"colab-df-convert\" onclick=\"convertToInteractive('df-db16fe08-112a-4610-8537-cac0902233ee')\"\n",
              "              title=\"Convert this dataframe to an interactive table.\"\n",
              "              style=\"display:none;\">\n",
              "        \n",
              "  <svg xmlns=\"http://www.w3.org/2000/svg\" height=\"24px\"viewBox=\"0 0 24 24\"\n",
              "       width=\"24px\">\n",
              "    <path d=\"M0 0h24v24H0V0z\" fill=\"none\"/>\n",
              "    <path d=\"M18.56 5.44l.94 2.06.94-2.06 2.06-.94-2.06-.94-.94-2.06-.94 2.06-2.06.94zm-11 1L8.5 8.5l.94-2.06 2.06-.94-2.06-.94L8.5 2.5l-.94 2.06-2.06.94zm10 10l.94 2.06.94-2.06 2.06-.94-2.06-.94-.94-2.06-.94 2.06-2.06.94z\"/><path d=\"M17.41 7.96l-1.37-1.37c-.4-.4-.92-.59-1.43-.59-.52 0-1.04.2-1.43.59L10.3 9.45l-7.72 7.72c-.78.78-.78 2.05 0 2.83L4 21.41c.39.39.9.59 1.41.59.51 0 1.02-.2 1.41-.59l7.78-7.78 2.81-2.81c.8-.78.8-2.07 0-2.86zM5.41 20L4 18.59l7.72-7.72 1.47 1.35L5.41 20z\"/>\n",
              "  </svg>\n",
              "      </button>\n",
              "      \n",
              "  <style>\n",
              "    .colab-df-container {\n",
              "      display:flex;\n",
              "      flex-wrap:wrap;\n",
              "      gap: 12px;\n",
              "    }\n",
              "\n",
              "    .colab-df-convert {\n",
              "      background-color: #E8F0FE;\n",
              "      border: none;\n",
              "      border-radius: 50%;\n",
              "      cursor: pointer;\n",
              "      display: none;\n",
              "      fill: #1967D2;\n",
              "      height: 32px;\n",
              "      padding: 0 0 0 0;\n",
              "      width: 32px;\n",
              "    }\n",
              "\n",
              "    .colab-df-convert:hover {\n",
              "      background-color: #E2EBFA;\n",
              "      box-shadow: 0px 1px 2px rgba(60, 64, 67, 0.3), 0px 1px 3px 1px rgba(60, 64, 67, 0.15);\n",
              "      fill: #174EA6;\n",
              "    }\n",
              "\n",
              "    [theme=dark] .colab-df-convert {\n",
              "      background-color: #3B4455;\n",
              "      fill: #D2E3FC;\n",
              "    }\n",
              "\n",
              "    [theme=dark] .colab-df-convert:hover {\n",
              "      background-color: #434B5C;\n",
              "      box-shadow: 0px 1px 3px 1px rgba(0, 0, 0, 0.15);\n",
              "      filter: drop-shadow(0px 1px 2px rgba(0, 0, 0, 0.3));\n",
              "      fill: #FFFFFF;\n",
              "    }\n",
              "  </style>\n",
              "\n",
              "      <script>\n",
              "        const buttonEl =\n",
              "          document.querySelector('#df-db16fe08-112a-4610-8537-cac0902233ee button.colab-df-convert');\n",
              "        buttonEl.style.display =\n",
              "          google.colab.kernel.accessAllowed ? 'block' : 'none';\n",
              "\n",
              "        async function convertToInteractive(key) {\n",
              "          const element = document.querySelector('#df-db16fe08-112a-4610-8537-cac0902233ee');\n",
              "          const dataTable =\n",
              "            await google.colab.kernel.invokeFunction('convertToInteractive',\n",
              "                                                     [key], {});\n",
              "          if (!dataTable) return;\n",
              "\n",
              "          const docLinkHtml = 'Like what you see? Visit the ' +\n",
              "            '<a target=\"_blank\" href=https://colab.research.google.com/notebooks/data_table.ipynb>data table notebook</a>'\n",
              "            + ' to learn more about interactive tables.';\n",
              "          element.innerHTML = '';\n",
              "          dataTable['output_type'] = 'display_data';\n",
              "          await google.colab.output.renderOutput(dataTable, element);\n",
              "          const docLink = document.createElement('div');\n",
              "          docLink.innerHTML = docLinkHtml;\n",
              "          element.appendChild(docLink);\n",
              "        }\n",
              "      </script>\n",
              "    </div>\n",
              "  </div>\n",
              "  "
            ]
          },
          "metadata": {},
          "execution_count": 43
        }
      ],
      "source": [
        "# смотрим трейн с полями прогноза модели\n",
        "train"
      ]
    },
    {
      "cell_type": "code",
      "execution_count": null,
      "metadata": {
        "id": "rdXCL3Vd0yO0"
      },
      "outputs": [],
      "source": [
        "# сохраняем для коррекции прогноза по командным играм\n",
        "train.to_csv('train_to_team_games.csv', sep=',', index=None)"
      ]
    }
  ],
  "metadata": {
    "accelerator": "GPU",
    "colab": {
      "provenance": []
    },
    "kernelspec": {
      "display_name": "Python 3 (ipykernel)",
      "language": "python",
      "name": "python3"
    },
    "language_info": {
      "codemirror_mode": {
        "name": "ipython",
        "version": 3
      },
      "file_extension": ".py",
      "mimetype": "text/x-python",
      "name": "python",
      "nbconvert_exporter": "python",
      "pygments_lexer": "ipython3",
      "version": "3.8.8"
    }
  },
  "nbformat": 4,
  "nbformat_minor": 0
}